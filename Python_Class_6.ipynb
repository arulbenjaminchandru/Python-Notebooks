{
  "nbformat": 4,
  "nbformat_minor": 0,
  "metadata": {
    "colab": {
      "provenance": [],
      "authorship_tag": "ABX9TyP2Gmq6fJ4Y2esD6hxyvZTf",
      "include_colab_link": true
    },
    "kernelspec": {
      "name": "python3",
      "display_name": "Python 3"
    },
    "language_info": {
      "name": "python"
    }
  },
  "cells": [
    {
      "cell_type": "markdown",
      "metadata": {
        "id": "view-in-github",
        "colab_type": "text"
      },
      "source": [
        "<a href=\"https://colab.research.google.com/github/arulbenjaminchandru/Python-Notebooks/blob/main/Python_Class_6.ipynb\" target=\"_parent\"><img src=\"https://colab.research.google.com/assets/colab-badge.svg\" alt=\"Open In Colab\"/></a>"
      ]
    },
    {
      "cell_type": "markdown",
      "source": [
        "## **Class 6**\n",
        "\n",
        "* Other data types - int, float\n",
        "* Understanding Lists\n",
        "* Lists: creation, indexing, slicing\n",
        "\n"
      ],
      "metadata": {
        "id": "tJiJmmH_XIXl"
      }
    },
    {
      "cell_type": "markdown",
      "source": [
        "### **6.1 `int` and `float` in Python**\n",
        "\n",
        "In Python, data types define the kind of value a variable can hold. Two of the most common numeric data types you'll encounter are `int` and `float`.\n",
        "\n",
        "#### **1. Integer (`int`)**\n",
        "\n",
        "- **Definition**: An integer, or `int`, is a whole number without any decimal point. It can be positive, negative, or zero.\n",
        "- **Examples**: `5`, `-42`, `0`\n",
        "\n",
        "**Usage**:\n",
        "```python\n",
        "age = 25          # age is an int\n",
        "temperature = -10 # temperature is an int\n",
        "```\n",
        "\n",
        "- **Operations**: You can perform arithmetic operations like addition, subtraction, multiplication, and division with integers.\n",
        "```python\n",
        "a = 10\n",
        "b = 3\n",
        "sum = a + b       # sum will be 13\n",
        "difference = a - b  # difference will be 7\n",
        "```\n",
        "\n",
        "#### **2. Floating-Point Number (`float`)**\n",
        "\n",
        "- **Definition**: A floating-point number, or `float`, is a number that has a decimal point. Floats are used when more precision is needed, such as in measurements or calculations that require fractional values.\n",
        "- **Examples**: `3.14`, `-0.001`, `2.0`\n",
        "\n",
        "**Usage**:\n",
        "```python\n",
        "pi = 3.14159      # pi is a float\n",
        "height = 5.9      # height is a float\n",
        "```\n",
        "\n",
        "- **Operations**: Floats support the same arithmetic operations as integers, but they include decimals in the result.\n",
        "```python\n",
        "a = 5.0\n",
        "b = 2.0\n",
        "quotient = a / b  # quotient will be 2.5\n",
        "```\n",
        "\n",
        "### **Key Differences**\n",
        "\n",
        "- **Precision**: `int` is for whole numbers, while `float` is for numbers that need a fractional component.\n",
        "- **Memory**: Floats generally consume more memory than integers because they store more detailed information.\n",
        "\n",
        "### **Converting Between `int` and `float`**\n",
        "\n",
        "Sometimes, you may need to convert a float to an int, or vice versa.\n",
        "\n",
        "- **Float to Int**: This conversion will remove the decimal part, effectively rounding down.\n",
        "    ```python\n",
        "    float_value = 7.8\n",
        "    int_value = int(float_value)  # int_value will be 7\n",
        "    ```\n",
        "  \n",
        "- **Int to Float**: This conversion adds a `.0` to the number.\n",
        "    ```python\n",
        "    int_value = 10\n",
        "    float_value = float(int_value)  # float_value will be 10.0\n",
        "    ```\n",
        "\n",
        "Understanding the difference between `int` and `float` is essential as they are fundamental to handling numbers in Python."
      ],
      "metadata": {
        "id": "llrXdWumehWn"
      }
    },
    {
      "cell_type": "markdown",
      "source": [
        "#### **6.1.1 Examples**\n",
        "\n",
        "Some Marvel-themed examples for data types like `int` (integer) and `float` (floating-point number) :\n",
        "\n",
        "\n"
      ],
      "metadata": {
        "id": "_iVGM4X6XVSQ"
      }
    },
    {
      "cell_type": "code",
      "execution_count": 1,
      "metadata": {
        "id": "Jt4JTe7kXDUm",
        "colab": {
          "base_uri": "https://localhost:8080/"
        },
        "outputId": "0ad9a39e-0f8d-46f5-956e-ec373f3d5750"
      },
      "outputs": [
        {
          "output_type": "stream",
          "name": "stdout",
          "text": [
            "Iron Man's age: 53\n",
            "Thor's age: 1500\n",
            "Spider-Man's age: 18\n"
          ]
        }
      ],
      "source": [
        "# This program demonstrates the use of integers (int) for Marvel character ages\n",
        "iron_man_age = 53  # Tony Stark's age\n",
        "thor_age = 1500    # Thor's age (Asgardian years)\n",
        "spider_man_age = 18  # Peter Parker's age\n",
        "\n",
        "print(\"Iron Man's age:\", iron_man_age)\n",
        "print(\"Thor's age:\", thor_age)\n",
        "print(\"Spider-Man's age:\", spider_man_age)\n"
      ]
    },
    {
      "cell_type": "code",
      "source": [
        "# This program demonstrates the use of floating-point numbers (float) for Thor's hammer weight\n",
        "hammer_weight = 42.3  # Weight in pounds (hypothetical value)\n",
        "\n",
        "print(\"Thor's hammer, Mjölnir, weighs approximately\", hammer_weight, \"pounds.\")\n"
      ],
      "metadata": {
        "colab": {
          "base_uri": "https://localhost:8080/"
        },
        "id": "YI2FG1mYfNLc",
        "outputId": "8acfab3d-49b4-431d-abc9-6135b59b9921"
      },
      "execution_count": 2,
      "outputs": [
        {
          "output_type": "stream",
          "name": "stdout",
          "text": [
            "Thor's hammer, Mjölnir, weighs approximately 42.3 pounds.\n"
          ]
        }
      ]
    },
    {
      "cell_type": "code",
      "source": [
        "# This program calculates the difference in height between two Marvel heroes\n",
        "iron_man_height = 6.1  # Iron Man's height in feet (float)\n",
        "hulk_height = 8  # Hulk's height in feet (int)\n",
        "\n",
        "height_difference = hulk_height - iron_man_height\n",
        "print(\"The height difference between Hulk and Iron Man is\", height_difference, \"feet.\")"
      ],
      "metadata": {
        "colab": {
          "base_uri": "https://localhost:8080/"
        },
        "id": "OsTivLCRfRJV",
        "outputId": "8caa7732-0eab-428a-fe77-43ebf5047416"
      },
      "execution_count": 3,
      "outputs": [
        {
          "output_type": "stream",
          "name": "stdout",
          "text": [
            "The height difference between Hulk and Iron Man is 1.9000000000000004 feet.\n"
          ]
        }
      ]
    },
    {
      "cell_type": "markdown",
      "source": [
        "\n",
        "**Explanation:**\n",
        "\n",
        "This program shows that we can mix integers (int) and floats (float) in calculations. The height difference between Hulk and Iron Man is calculated, demonstrating how Python handles both data types."
      ],
      "metadata": {
        "id": "lbWZtn7ifaQk"
      }
    },
    {
      "cell_type": "code",
      "source": [
        "# This program converts a floating-point number to an integer\n",
        "spider_man_speed = 27.5  # Spider-Man's speed in mph (hypothetical value)\n",
        "\n",
        "print(\"Spider-Man's speed as a float:\", spider_man_speed)\n",
        "print(\"Spider-Man's speed as an integer:\", int(spider_man_speed))\n"
      ],
      "metadata": {
        "colab": {
          "base_uri": "https://localhost:8080/"
        },
        "id": "roWOoQe1fVMy",
        "outputId": "e9d91eb6-29ca-420c-967a-507f95bf8c73"
      },
      "execution_count": 4,
      "outputs": [
        {
          "output_type": "stream",
          "name": "stdout",
          "text": [
            "Spider-Man's speed as a float: 27.5\n",
            "Spider-Man's speed as an integer: 27\n"
          ]
        }
      ]
    },
    {
      "cell_type": "markdown",
      "source": [
        "\n",
        "**Explanation**\n",
        "\n",
        "Here, we demonstrate how a floating-point number can be converted to an integer using the int() function. This is useful when we need to represent data in whole numbers.\n"
      ],
      "metadata": {
        "id": "sCHlbo4vfljB"
      }
    },
    {
      "cell_type": "code",
      "source": [
        "# This program demonstrates using int and float to represent hero power levels\n",
        "iron_man_power = 90  # Power level out of 100 (int)\n",
        "thor_power = 95.5    # Power level out of 100 (float)\n",
        "\n",
        "print(\"Iron Man's power level:\", iron_man_power)\n",
        "print(\"Thor's power level:\", thor_power)\n"
      ],
      "metadata": {
        "colab": {
          "base_uri": "https://localhost:8080/"
        },
        "id": "HR4sfA1hg-gq",
        "outputId": "ecc42c0e-987f-41aa-85b6-b6a9b17e4721"
      },
      "execution_count": 5,
      "outputs": [
        {
          "output_type": "stream",
          "name": "stdout",
          "text": [
            "Iron Man's power level: 90\n",
            "Thor's power level: 95.5\n"
          ]
        }
      ]
    },
    {
      "cell_type": "markdown",
      "source": [
        "**Explanation:**\n",
        "\n",
        "Power levels for Iron Man and Thor are represented as an integer and a float, respectively. This example shows how both data types can be used to represent similar kinds of data."
      ],
      "metadata": {
        "id": "BqDu8d8zhAfw"
      }
    },
    {
      "cell_type": "markdown",
      "source": [
        "### **6.2 Understanding Lists in Python**\n",
        "\n",
        "A **list** in Python is a versatile data structure that allows you to store multiple items in a single variable. Lists can hold a variety of data types, including numbers, strings, and even other lists.\n",
        "\n"
      ],
      "metadata": {
        "id": "zXlMxjd7hPbt"
      }
    },
    {
      "cell_type": "markdown",
      "source": [
        "#### **6.2.1. Creating a List**\n",
        "\n",
        "You can create a list by placing the items inside square brackets `[]`, separated by commas.\n",
        "\n",
        "**Example**:\n",
        "```python\n",
        "fruits = [\"apple\", \"banana\", \"cherry\"]\n",
        "numbers = [1, 2, 3, 4, 5]\n",
        "```\n",
        "\n",
        "Here, `fruits` is a list containing strings, and `numbers` is a list containing integers.\n",
        "\n"
      ],
      "metadata": {
        "id": "eu9JbJFwiRRg"
      }
    },
    {
      "cell_type": "code",
      "source": [
        "fruits = [\"apple\", \"banana\", \"cherry\"]\n",
        "numbers = [1, 2, 3, 4, 5]\n",
        "\n",
        "print(fruits)\n",
        "print(numbers)"
      ],
      "metadata": {
        "colab": {
          "base_uri": "https://localhost:8080/"
        },
        "id": "VymMvt9Gli57",
        "outputId": "9f17dc66-5767-4ee0-d973-2974f3bbb77e"
      },
      "execution_count": 13,
      "outputs": [
        {
          "output_type": "stream",
          "name": "stdout",
          "text": [
            "['apple', 'banana', 'cherry']\n",
            "[1, 2, 3, 4, 5]\n"
          ]
        }
      ]
    },
    {
      "cell_type": "markdown",
      "source": [
        "#### **6.2.2. Accessing List Items**\n",
        "\n",
        "List items are indexed, meaning each item has a specific position starting from `0`. You can access items in a list using their index.\n",
        "\n",
        "**Example**:\n",
        "```python\n",
        "print(fruits[0])  # Output: apple\n",
        "print(numbers[2]) # Output: 3\n",
        "```\n"
      ],
      "metadata": {
        "id": "pxhkA2hjiXR1"
      }
    },
    {
      "cell_type": "code",
      "source": [
        "print(fruits[0])  # Output: apple\n",
        "print(numbers[2]) # Output: 3"
      ],
      "metadata": {
        "colab": {
          "base_uri": "https://localhost:8080/"
        },
        "id": "_QpYamDdlnX2",
        "outputId": "abee616f-3a30-4012-d8d0-5c288b648b8a"
      },
      "execution_count": 14,
      "outputs": [
        {
          "output_type": "stream",
          "name": "stdout",
          "text": [
            "apple\n",
            "3\n"
          ]
        }
      ]
    },
    {
      "cell_type": "markdown",
      "source": [
        "\n",
        "#### **6.2.3. Modifying List Items**\n",
        "\n",
        "Lists are mutable, which means you can change their contents after they are created.\n",
        "\n",
        "**Example**:\n",
        "```python\n",
        "fruits[1] = \"orange\"  # Changes \"banana\" to \"orange\"\n",
        "print(fruits)         # Output: [\"apple\", \"orange\", \"cherry\"]\n",
        "```\n",
        "\n"
      ],
      "metadata": {
        "id": "vZj8FDfciciL"
      }
    },
    {
      "cell_type": "code",
      "source": [
        "fruits[1] = \"orange\"  # Changes \"banana\" to \"orange\"\n",
        "print(fruits)         # Output: [\"apple\", \"orange\", \"cherry\"]"
      ],
      "metadata": {
        "colab": {
          "base_uri": "https://localhost:8080/"
        },
        "id": "Biv0vpdflqJy",
        "outputId": "17d7e867-51d1-4f6b-fd06-e12207c769a5"
      },
      "execution_count": 15,
      "outputs": [
        {
          "output_type": "stream",
          "name": "stdout",
          "text": [
            "['apple', 'orange', 'cherry']\n"
          ]
        }
      ]
    },
    {
      "cell_type": "markdown",
      "source": [
        "#### **6.2.4. Adding and Removing Items**\n",
        "\n",
        "You can add items to a list using the `append()` method or by using the `insert()` method to add an item at a specific position.\n",
        "\n",
        "**Example**:\n",
        "```python\n",
        "fruits.append(\"grape\")     # Adds \"grape\" at the end\n",
        "fruits.insert(1, \"kiwi\")   # Inserts \"kiwi\" at index 1\n",
        "```\n",
        "\n",
        "You can remove items using the `remove()` method or `pop()` method.\n",
        "\n",
        "**Example**:\n",
        "```python\n",
        "fruits.remove(\"apple\")     # Removes \"apple\"\n",
        "last_fruit = fruits.pop()  # Removes the last item and returns it\n",
        "```\n",
        "\n"
      ],
      "metadata": {
        "id": "M6g0YRlXii8H"
      }
    },
    {
      "cell_type": "code",
      "source": [
        "fruits.append(\"grape\")     # Adds \"grape\" at the end\n",
        "fruits.insert(1, \"kiwi\")   # Inserts \"kiwi\" at index 1\n",
        "\n",
        "fruits.remove(\"apple\")     # Removes \"apple\"\n",
        "last_fruit = fruits.pop()  # Removes the last item and returns it\n",
        "\n",
        "print(fruits)\n",
        "print(last_fruit)"
      ],
      "metadata": {
        "colab": {
          "base_uri": "https://localhost:8080/"
        },
        "id": "oLoJDUtylub-",
        "outputId": "1e622a13-92a5-4da0-c908-20ba828a6c7e"
      },
      "execution_count": 16,
      "outputs": [
        {
          "output_type": "stream",
          "name": "stdout",
          "text": [
            "['kiwi', 'orange', 'cherry']\n"
          ]
        }
      ]
    },
    {
      "cell_type": "markdown",
      "source": [
        "#### **6.2.5. List Length**\n",
        "\n",
        "To find out how many items are in a list, you can use the `len()` function.\n",
        "\n",
        "**Example**:\n",
        "```python\n",
        "print(len(fruits))  # Output: 3\n",
        "```\n"
      ],
      "metadata": {
        "id": "kpjLD-L-ip2W"
      }
    },
    {
      "cell_type": "code",
      "source": [
        "print(len(fruits))  # Output: 3"
      ],
      "metadata": {
        "colab": {
          "base_uri": "https://localhost:8080/"
        },
        "id": "hJ3LwczFmIbc",
        "outputId": "6133ec6d-4505-4fca-aca3-b55d8fa6ea9f"
      },
      "execution_count": 17,
      "outputs": [
        {
          "output_type": "stream",
          "name": "stdout",
          "text": [
            "3\n"
          ]
        }
      ]
    },
    {
      "cell_type": "markdown",
      "source": [
        "\n",
        "#### **6.2.6. Iterating Through a List**\n",
        "\n",
        "You can loop through the items in a list using a `for` loop.\n",
        "\n",
        "**Example**:\n",
        "```python\n",
        "for fruit in fruits:\n",
        "    print(fruit)\n",
        "```\n",
        "\n",
        "This will print each fruit in the `fruits` list.\n",
        "\n"
      ],
      "metadata": {
        "id": "Fpie-JXRiugx"
      }
    },
    {
      "cell_type": "code",
      "source": [
        "for fruit in fruits:\n",
        "    print(fruit)"
      ],
      "metadata": {
        "colab": {
          "base_uri": "https://localhost:8080/"
        },
        "id": "VlPqy7G2mLMH",
        "outputId": "486daf9d-3459-4dcf-e4d5-894ee231fa8a"
      },
      "execution_count": 18,
      "outputs": [
        {
          "output_type": "stream",
          "name": "stdout",
          "text": [
            "kiwi\n",
            "orange\n",
            "cherry\n"
          ]
        }
      ]
    },
    {
      "cell_type": "markdown",
      "source": [
        "#### **6.2.7. Nested Lists**\n",
        "\n",
        "Lists can contain other lists, creating a structure known as a nested list.\n",
        "\n",
        "**Example**:\n",
        "```python\n",
        "nested_list = [[\"a\", \"b\"], [1, 2, 3], [\"x\", \"y\", \"z\"]]\n",
        "```\n",
        "\n",
        "You can access items in a nested list by using multiple indexes.\n",
        "\n",
        "**Example**:\n",
        "```python\n",
        "print(nested_list[0][1])  # Output: b\n",
        "```\n",
        "\n",
        "Lists are a powerful and flexible tool in Python, allowing you to store and manipulate collections of data easily. Understanding how to create, modify, and work with lists is essential for efficient Python programming."
      ],
      "metadata": {
        "id": "7qQqUZddi2-l"
      }
    },
    {
      "cell_type": "code",
      "source": [
        "nested_list = [[\"a\", \"b\"], [1, 2, 3], [\"x\", \"y\", \"z\"]]\n",
        "print(nested_list[0][1])  # Output: b"
      ],
      "metadata": {
        "colab": {
          "base_uri": "https://localhost:8080/"
        },
        "id": "CBstl26wi9qB",
        "outputId": "b2a7063f-8a00-4b99-a2b4-2b0d350ec4c6"
      },
      "execution_count": 20,
      "outputs": [
        {
          "output_type": "stream",
          "name": "stdout",
          "text": [
            "b\n"
          ]
        }
      ]
    },
    {
      "cell_type": "markdown",
      "source": [
        "### **6.3 Indexing, and Slicing**\n",
        "\n"
      ],
      "metadata": {
        "id": "XTN18C_sj6rq"
      }
    },
    {
      "cell_type": "markdown",
      "source": [
        "#### **6.3.1. Indexing a List**\n",
        "\n",
        "Indexing allows you to access individual elements of a list. Each element in a list has a specific position (or index), starting from `0` for the first item.\n",
        "\n",
        "**How to Access List Elements**:\n",
        "- Use square brackets `[]` with the index number to retrieve a specific element.\n",
        "\n",
        "**Example**:\n",
        "```python\n",
        "# Accessing elements in the 'fruits' list\n",
        "first_fruit = fruits[0]  # Output: \"apple\"\n",
        "second_fruit = fruits[1] # Output: \"banana\"\n",
        "\n",
        "# Negative indexing (starts from the end)\n",
        "last_fruit = fruits[-1]  # Output: \"cherry\"\n",
        "```\n",
        "\n",
        "- **Important Note**: If you try to access an index that doesn’t exist (e.g., `fruits[3]` in this case), Python will raise an `IndexError`.\n",
        "\n"
      ],
      "metadata": {
        "id": "7JAsAcDOkW_B"
      }
    },
    {
      "cell_type": "code",
      "source": [
        "fruits = [\"apple\", \"banana\", \"cherry\"]\n",
        "# Accessing elements in the 'fruits' list\n",
        "first_fruit = fruits[0]  # Output: \"apple\"\n",
        "second_fruit = fruits[1] # Output: \"banana\"\n",
        "\n",
        "# Negative indexing (starts from the end)\n",
        "last_fruit = fruits[-1]  # Output: \"cherry\"\n",
        "\n",
        "print(first_fruit)\n",
        "print(second_fruit)\n",
        "print(last_fruit)"
      ],
      "metadata": {
        "colab": {
          "base_uri": "https://localhost:8080/"
        },
        "id": "BNxs1jA5mYiE",
        "outputId": "eb02ce23-df3a-42e3-d0eb-9b1abca6b356"
      },
      "execution_count": 23,
      "outputs": [
        {
          "output_type": "stream",
          "name": "stdout",
          "text": [
            "apple\n",
            "banana\n",
            "cherry\n"
          ]
        }
      ]
    },
    {
      "cell_type": "markdown",
      "source": [
        "#### **6.3.2. Slicing a List**\n",
        "\n",
        "Slicing is a technique to access a subset of a list. You can slice a list by specifying a start index and an end index, separated by a colon `:`. The slice will include elements from the start index up to, but not including, the end index.\n",
        "\n",
        "**How to Slice a List**:\n",
        "- `list[start:end]`: Returns a new list containing elements from `start` to `end-1`.\n",
        "- If you omit `start`, the slice starts from the beginning of the list.\n",
        "- If you omit `end`, the slice goes up to the last element.\n",
        "\n",
        "**Example**:\n",
        "```python\n",
        "# Slicing the 'numbers' list\n",
        "subset = numbers[1:4]    # Output: [20, 30, 40]\n",
        "first_two = numbers[:2]  # Output: [10, 20]\n",
        "last_two = numbers[3:]   # Output: [40, 50]\n",
        "\n",
        "# Full slice (returns a copy of the list)\n",
        "all_numbers = numbers[:]  # Output: [10, 20, 30, 40, 50]\n",
        "```\n",
        "\n",
        "- **Step Slicing**: You can also include a step to skip elements in the slice.\n",
        "    ```python\n",
        "    every_second = numbers[::2]  # Output: [10, 30, 50]\n",
        "    reverse_list = numbers[::-1] # Output: [50, 40, 30, 20, 10]\n",
        "    ```"
      ],
      "metadata": {
        "id": "pIjKlO4UkfbW"
      }
    },
    {
      "cell_type": "code",
      "source": [
        "numbers = [10, 20, 30, 40, 50]\n",
        "# Slicing the 'numbers' list\n",
        "subset = numbers[1:4]    # Output: [20, 30, 40]\n",
        "first_two = numbers[:2]  # Output: [10, 20]\n",
        "last_two = numbers[3:]   # Output: [40, 50]\n",
        "\n",
        "# Full slice (returns a copy of the list)\n",
        "all_numbers = numbers[:]  # Output: [10, 20, 30, 40, 50]\n",
        "\n",
        "every_second = numbers[::2]  # Output: [10, 30, 50]\n",
        "reverse_list = numbers[::-1] # Output: [50, 40, 30, 20, 10]\n",
        "\n",
        "print(subset)\n",
        "print(first_two)\n",
        "print(last_two)\n",
        "print(all_numbers)\n",
        "\n",
        "print(every_second)\n",
        "print(reverse_list)"
      ],
      "metadata": {
        "colab": {
          "base_uri": "https://localhost:8080/"
        },
        "id": "SD_zVfPGmuMU",
        "outputId": "8aab1185-dc2b-49d2-e138-8362136536d7"
      },
      "execution_count": 27,
      "outputs": [
        {
          "output_type": "stream",
          "name": "stdout",
          "text": [
            "[20, 30, 40]\n",
            "[10, 20]\n",
            "[40, 50]\n",
            "[10, 20, 30, 40, 50]\n",
            "[10, 30, 50]\n",
            "[50, 40, 30, 20, 10]\n"
          ]
        }
      ]
    },
    {
      "cell_type": "markdown",
      "source": [
        "\n",
        "### **Lists Summary**\n",
        "\n",
        "- **Creation**: Lists are created using square brackets, and they can hold various data types.\n",
        "- **Indexing**: You can access elements in a list using their index, with the first element at index `0`.\n",
        "- **Slicing**: Slicing allows you to extract a portion of the list by specifying a range of indices.\n",
        "\n",
        "Understanding list creation, indexing, and slicing is crucial for working efficiently with data in Python."
      ],
      "metadata": {
        "id": "M3aJYsThklR_"
      }
    },
    {
      "cell_type": "markdown",
      "source": [
        "##Practice Programs\n"
      ],
      "metadata": {
        "id": "n7srQgMxngUL"
      }
    },
    {
      "cell_type": "markdown",
      "source": [
        "### **1. Integer Practice: Alien Invasion Counter**\n",
        "\n",
        "Imagine you’re tracking an alien invasion and need to keep count of the aliens that land every day. This program will help you manage the count.\n",
        "\n",
        "**Program**:\n",
        "```python\n",
        "# Day 1: The first wave of aliens lands\n",
        "aliens_landed = 42\n",
        "\n",
        "# Day 2: More aliens arrive\n",
        "more_aliens = 58\n",
        "\n",
        "# Total aliens\n",
        "total_aliens = aliens_landed + more_aliens\n",
        "\n",
        "print(\"Total aliens so far:\", total_aliens)\n",
        "\n",
        "# Oh no! Some aliens got scared and ran away.\n",
        "scared_aliens = 10\n",
        "remaining_aliens = total_aliens - scared_aliens\n",
        "\n",
        "print(\"Aliens left after the scare:\", remaining_aliens)\n",
        "```\n",
        "\n",
        "**Challenge**: Change the numbers to track different alien invasions each day!\n",
        "\n"
      ],
      "metadata": {
        "id": "L6_rSlDhoeJj"
      }
    },
    {
      "cell_type": "markdown",
      "source": [
        "### **2. Float Practice: Magic Potion Calculator**\n",
        "\n",
        "You’re a wizard making a magic potion that requires precise measurements. This program calculates the exact amounts needed.\n",
        "\n",
        "**Program**:\n",
        "```python\n",
        "# Ingredients in liters\n",
        "dragon_blood = 0.75\n",
        "unicorn_tears = 1.25\n",
        "\n",
        "# Mix them together\n",
        "potion_volume = dragon_blood + unicorn_tears\n",
        "\n",
        "print(\"Total potion volume (in liters):\", potion_volume)\n",
        "\n",
        "# You need to divide the potion into 3 bottles\n",
        "bottles = 3\n",
        "potion_per_bottle = potion_volume / bottles\n",
        "\n",
        "print(\"Each bottle contains (in liters):\", potion_per_bottle)\n",
        "```\n",
        "\n",
        "**Challenge**: Adjust the amounts and see how much potion you get in each bottle!\n",
        "\n"
      ],
      "metadata": {
        "id": "lq-HXt4eoEn4"
      }
    },
    {
      "cell_type": "markdown",
      "source": [
        "### **3. List Practice: Superhero Squad**\n",
        "\n",
        "Let’s create a list of superheroes and perform some fun operations with it.\n",
        "\n",
        "**Program**:\n",
        "```python\n",
        "# Create a list of superheroes\n",
        "superheroes = [\"Iron Man\", \"Spider-Man\", \"Thor\", \"Hulk\", \"Black Widow\"]\n",
        "\n",
        "# Print the first and last superhero\n",
        "print(\"First superhero:\", superheroes[0])\n",
        "print(\"Last superhero:\", superheroes[-1])\n",
        "\n",
        "# Add a new superhero to the squad\n",
        "superheroes.append(\"Captain Marvel\")\n",
        "print(\"Updated superhero squad:\", superheroes)\n",
        "\n",
        "# Remove a superhero who retired\n",
        "superheroes.remove(\"Iron Man\")\n",
        "print(\"After retirement, the squad is:\", superheroes)\n",
        "\n",
        "# Create a list of their superpowers\n",
        "superpowers = [\"Genius\", \"Spidey Sense\", \"Thunder\", \"Strength\", \"Espionage\"]\n",
        "\n",
        "# Pair each superhero with their superpower\n",
        "for i in range(len(superheroes)):\n",
        "    print(superheroes[i], \"has the superpower of\", superpowers[i])\n",
        "```\n",
        "\n",
        "**Challenge**: Add more superheroes and superpowers, then try pairing them up in different ways!\n",
        "\n"
      ],
      "metadata": {
        "id": "P6TKeTrpoJkH"
      }
    },
    {
      "cell_type": "markdown",
      "source": [
        "### **4. Fun Math with Floats: Pie Eating Contest**\n",
        "\n",
        "You’re hosting a pie-eating contest and want to calculate how much pie each contestant eats.\n",
        "\n",
        "**Program**:\n",
        "```python\n",
        "# Total pie in the contest (in pies)\n",
        "total_pies = 10.0\n",
        "\n",
        "# Number of contestants\n",
        "contestants = 4\n",
        "\n",
        "# Calculate the amount of pie each contestant gets\n",
        "pie_per_contestant = total_pies / contestants\n",
        "\n",
        "print(\"Each contestant eats:\", pie_per_contestant, \"pies\")\n",
        "\n",
        "# After the contest, calculate the remaining pie\n",
        "leftover_pie = total_pies - (pie_per_contestant * contestants)\n",
        "print(\"Leftover pie after the contest:\", leftover_pie, \"pies\")\n",
        "```\n",
        "\n",
        "**Challenge**: What happens if you have more or fewer contestants? Try different numbers!\n",
        "\n"
      ],
      "metadata": {
        "id": "wB7B5HFfoTGc"
      }
    },
    {
      "cell_type": "markdown",
      "source": [
        "### **5. List Challenge: Grocery Shopping with a Twist**\n",
        "\n",
        "Create a list of grocery items and calculate the total cost, but add a twist: one item is secretly free!\n",
        "\n",
        "**Program**:\n",
        "```python\n",
        "# Create a list of grocery items and their prices\n",
        "groceries = [\"Milk\", \"Bread\", \"Eggs\", \"Cheese\", \"Chocolate\"]\n",
        "prices = [1.50, 2.00, 3.00, 4.50, 5.00]\n",
        "\n",
        "# Print the original list and prices\n",
        "print(\"Grocery list:\", groceries)\n",
        "print(\"Prices:\", prices)\n",
        "\n",
        "# Total cost of all items\n",
        "total_cost = sum(prices)\n",
        "\n",
        "# Secretly make one item free\n",
        "free_item = groceries.pop(2)\n",
        "prices.pop(2)\n",
        "\n",
        "print(f\"Surprise! {free_item} is free today!\")\n",
        "print(\"Updated grocery list:\", groceries)\n",
        "print(\"Updated prices:\", prices)\n",
        "\n",
        "# Calculate the new total cost\n",
        "new_total_cost = sum(prices)\n",
        "\n",
        "print(\"New total cost after the discount:\", new_total_cost)\n",
        "```\n",
        "\n",
        "**Challenge**: Try making different items free and see how the total cost changes!"
      ],
      "metadata": {
        "id": "xSUnSJ8-oWp5"
      }
    }
  ]
}