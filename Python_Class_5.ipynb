{
  "nbformat": 4,
  "nbformat_minor": 0,
  "metadata": {
    "colab": {
      "provenance": [],
      "authorship_tag": "ABX9TyMtXyDVI4QHEbEhl0G5UJHH",
      "include_colab_link": true
    },
    "kernelspec": {
      "name": "python3",
      "display_name": "Python 3"
    },
    "language_info": {
      "name": "python"
    }
  },
  "cells": [
    {
      "cell_type": "markdown",
      "metadata": {
        "id": "view-in-github",
        "colab_type": "text"
      },
      "source": [
        "<a href=\"https://colab.research.google.com/github/arulbenjaminchandru/Python-Notebooks/blob/main/Python_Class_5.ipynb\" target=\"_parent\"><img src=\"https://colab.research.google.com/assets/colab-badge.svg\" alt=\"Open In Colab\"/></a>"
      ]
    },
    {
      "cell_type": "markdown",
      "source": [
        "# Class 5:\n",
        "* Introduction to loops\n",
        "* While loop\n",
        "* For loop\n",
        "* DIY - Mini Project\n"
      ],
      "metadata": {
        "id": "ATN5J_SKj7gu"
      }
    },
    {
      "cell_type": "markdown",
      "source": [
        "## 5.1 Introduction to loops\n",
        "\n",
        "Imagine you have a magical machine that can do a task over and over again without you having to ask it each time. For example, you want to print your name on 10 pieces of paper or count how many times you can jump in a row. Instead of doing it by hand every time, you can use a **loop** to do it automatically!\n",
        "\n",
        "### What is a Loop?\n",
        "\n",
        "A **loop** is like a set of instructions that tells the computer to repeat something many times. Think of it as a magic spell that helps you get things done faster and more easily.\n",
        "\n",
        "### Why Use Loops?\n",
        "\n",
        "Loops are super helpful when you need to:\n",
        "- Repeat tasks without typing the same thing over and over.\n",
        "- Count things, like how many candies you have or how many times you need to practice a song.\n",
        "- Do something many times in a row, like drawing shapes or printing names."
      ],
      "metadata": {
        "id": "005owVIQl7le"
      }
    },
    {
      "cell_type": "markdown",
      "source": [
        "## 5.2 Two Main Types of Loops\n",
        "\n",
        "1. **`while` Loop**: This loop keeps doing something as long as a certain condition is true. It’s like a timer that keeps running until a specific event happens.\n",
        "\n",
        "   **Example**: Counting candies. You keep adding candies and counting until you have 10 candies.\n",
        "\n",
        "2. **`for` Loop**: This loop goes through a list or a range of numbers and does something for each item. It’s like going through a list of tasks one by one.\n",
        "\n",
        "   **Example**: Printing the days of the week. You go through each day and print its name.\n",
        "\n",
        "### Fun Examples\n",
        "\n",
        "1. **Counting Candies**: If you want to count from 1 to 10, a loop can help you do this quickly.\n",
        "\n",
        "2. **Days of the Week**: If you want to print all the days of the week, a loop can go through each day and print it for you.\n",
        "\n",
        "Loops are like having a friendly robot that helps you with repetitive tasks, making your coding adventures more exciting and less boring!"
      ],
      "metadata": {
        "id": "Nj47GJsfq5i1"
      }
    },
    {
      "cell_type": "markdown",
      "source": [
        "## 5.3 Understanding While Loops in Python\n",
        "\n",
        "Imagine you have a game where you keep playing until you win. A **`while` loop** in Python is like that game. It keeps going and doing something over and over until a certain condition is met.\n",
        "\n",
        "### What is a While Loop?\n",
        "\n",
        "A **`while` loop** is like a rule that says, “Keep doing this as long as something is true.” It’s perfect for situations where you don’t know how many times you need to repeat something, but you know you need to keep going until a specific condition changes.\n",
        "\n",
        "### Real-World Example: Saving Coins\n",
        "\n",
        "Let’s say you have a piggy bank, and you want to save coins until you have 10 coins inside. You start with 0 coins, and each day you add a coin. The `while` loop will keep adding coins until you reach 10.\n",
        "\n",
        "Here’s how it works:\n",
        "\n",
        "1. **Start Counting**: You start with 0 coins.\n",
        "2. **While Loop**: The loop keeps adding coins as long as the total number of coins is less than 10.\n",
        "3. **Action**: Each day you add a coin, and the loop checks if you’ve reached 10 coins.\n",
        "\n",
        "### Example Code\n",
        "\n",
        "Here’s some Python code that demonstrates this:\n",
        "\n",
        "```python\n",
        "# Starting with 0 coins\n",
        "coins = 0\n",
        "\n",
        "# While loop to add coins until we have 10\n",
        "while coins < 10:\n",
        "    coins += 1  # Add one coin\n",
        "    print(\"You now have\", coins, \"coins\")\n",
        "\n",
        "print(\"You reached 10 coins!\")\n",
        "```\n",
        "\n",
        "### What Does This Code Do?\n",
        "\n",
        "1. **Start with 0 Coins**: We begin with `coins` set to 0.\n",
        "2. **While Loop**: The loop runs as long as `coins` is less than 10.\n",
        "3. **Add a Coin**: Each time the loop runs, it adds 1 coin and prints the current number of coins.\n",
        "\n",
        "So, the loop will print:\n",
        "- You now have 1 coin\n",
        "- You now have 2 coins\n",
        "- You now have 3 coins\n",
        "- (…continues until…)\n",
        "- You now have 10 coins\n",
        "\n",
        "### Why Use a While Loop?\n",
        "\n",
        "Using a `while` loop is like having a rule that says, “Keep going until we reach our goal.” It’s great for situations where you don’t know exactly how many steps you need but have a clear stopping point.\n",
        "\n",
        "With `while` loops, you can handle tasks that need to repeat until a specific condition is met, making your programming both powerful and fun!"
      ],
      "metadata": {
        "id": "PPLygtjosdkL"
      }
    },
    {
      "cell_type": "markdown",
      "source": [
        "### While Loop Examples"
      ],
      "metadata": {
        "id": "1PiQYiagrAnp"
      }
    },
    {
      "cell_type": "code",
      "source": [
        "# Case 1: Counting Up\n",
        "# This loop counts from 1 to 5 and prints each number.\n",
        "\n",
        "print(\"Case 1: Counting Up\")\n",
        "count = 1  # Start counting from 1\n",
        "\n",
        "while count <= 5:  # Continue looping as long as count is less than or equal to 5\n",
        "    print(count)   # Print the current value of count\n",
        "    count += 1     # Increase count by 1\n"
      ],
      "metadata": {
        "colab": {
          "base_uri": "https://localhost:8080/"
        },
        "id": "RDDBoeZOmypn",
        "outputId": "0628e0a4-095e-4311-bf3b-3e71d3c33902"
      },
      "execution_count": null,
      "outputs": [
        {
          "output_type": "stream",
          "name": "stdout",
          "text": [
            "Case 1: Counting Up\n",
            "1\n",
            "2\n",
            "3\n",
            "4\n",
            "5\n"
          ]
        }
      ]
    },
    {
      "cell_type": "code",
      "source": [
        "# Case 2: Counting Down\n",
        "# This loop counts down from 5 to 1 and prints each number.\n",
        "\n",
        "print(\"\\nCase 2: Counting Down\")\n",
        "number = 5  # Start counting from 5\n",
        "\n",
        "while number > 0:  # Continue looping as long as number is greater than 0\n",
        "    print(number)  # Print the current value of number\n",
        "    number -= 1    # Decrease number by 1\n"
      ],
      "metadata": {
        "colab": {
          "base_uri": "https://localhost:8080/"
        },
        "id": "Z-QNkaqHm25Q",
        "outputId": "9ee494cb-645b-4d33-b987-b85bf6952a1c"
      },
      "execution_count": null,
      "outputs": [
        {
          "output_type": "stream",
          "name": "stdout",
          "text": [
            "\n",
            "Case 2: Counting Down\n",
            "5\n",
            "4\n",
            "3\n",
            "2\n",
            "1\n"
          ]
        }
      ]
    },
    {
      "cell_type": "code",
      "source": [
        "# Case 3: Repeating a Task\n",
        "# This loop prints a message 3 times.\n",
        "\n",
        "print(\"\\nCase 3: Repeating a Task\")\n",
        "repeat_count = 0  # Initialize a counter for repetitions\n",
        "\n",
        "while repeat_count < 3:  # Continue looping as long as repeat_count is less than 3\n",
        "    print(\"This is repetition number\", repeat_count + 1)  # Print the repetition number\n",
        "    repeat_count += 1  # Increase repeat_count by 1"
      ],
      "metadata": {
        "colab": {
          "base_uri": "https://localhost:8080/"
        },
        "id": "fkHsXHUrm8qW",
        "outputId": "96310e81-97c0-42e4-f3fc-11cbf622be7c"
      },
      "execution_count": null,
      "outputs": [
        {
          "output_type": "stream",
          "name": "stdout",
          "text": [
            "\n",
            "Case 3: Repeating a Task\n",
            "This is repetition number 1\n",
            "This is repetition number 2\n",
            "This is repetition number 3\n"
          ]
        }
      ]
    },
    {
      "cell_type": "code",
      "source": [
        "# Case 4: User Input\n",
        "# This loop keeps asking for the user’s name until they enter a non-empty name.\n",
        "\n",
        "print(\"\\nCase 4: User Input\")\n",
        "user_name = \"\"  # Initialize an empty string for the user’s name\n",
        "\n",
        "while not user_name:  # Continue looping as long as user_name is an empty string\n",
        "    user_name = input(\"Please enter your name: \")  # Ask the user to enter their name\n",
        "    if user_name:  # Check if the user entered a non-empty name\n",
        "        print(\"Hello, \" + user_name + \"!\")  # Greet the user\n",
        "    else:\n",
        "        print(\"Name cannot be empty. Please try again.\")  # Prompt the user to enter their name again"
      ],
      "metadata": {
        "colab": {
          "base_uri": "https://localhost:8080/"
        },
        "id": "TjUty7aonCEi",
        "outputId": "ba6843e3-9967-440b-ab51-c2a2753ad347"
      },
      "execution_count": 1,
      "outputs": [
        {
          "output_type": "stream",
          "name": "stdout",
          "text": [
            "\n",
            "Case 4: User Input\n",
            "Please enter your name: \n",
            "Name cannot be empty. Please try again.\n",
            "Please enter your name: \n",
            "Name cannot be empty. Please try again.\n",
            "Please enter your name: Arul Benjamin\n",
            "Hello, Arul Benjamin!\n"
          ]
        }
      ]
    },
    {
      "cell_type": "markdown",
      "source": [
        "### Explanation of while loop code examples\n",
        "\n",
        "**Case 1: Counting Up**\n",
        "\n",
        "Starts from 1 and counts up to 5. The loop continues as long as count is less than or equal to 5.\n",
        "\n",
        "**Case 2: Counting Down**\n",
        "\n",
        "Starts from 5 and counts down to 1. The loop continues as long as number is greater than 0.\n",
        "\n",
        "**Case 3: Repeating a Task**\n",
        "\n",
        "Prints a message three times. The loop continues as long as repeat_count is less than 3.\n",
        "\n",
        "**Case 4: User Input**\n",
        "\n",
        "Keeps asking the user for their name until a non-empty name is provided. The loop continues as long as user_name is an empty string.\n"
      ],
      "metadata": {
        "id": "bj3NiiOEqn3t"
      }
    },
    {
      "cell_type": "markdown",
      "source": [
        "## 5.4 Understanding For Loops in Python\n",
        "\n",
        "Imagine you have a magic box that can help you do things many times without you having to ask it over and over. This magic box is called a **`for` loop** in Python!\n",
        "\n",
        "### What is a For Loop?\n",
        "\n",
        "A **`for` loop** is like a helpful friend who can go through a list of things one by one and do something with each item. It’s perfect for when you have a group of things to handle, like a list of toys or a set of numbers.\n",
        "\n",
        "### Real-World Example: Coloring a Book\n",
        "\n",
        "Let’s say you have a coloring book with 5 pages, and you want to color each page with a different color. Instead of telling yourself to color each page separately, you can use a `for` loop to do it automatically!\n",
        "\n",
        "Here’s how it works:\n",
        "\n",
        "1. **List of Colors**: You have a list of colors you want to use.\n",
        "2. **For Loop**: The loop goes through each color in the list.\n",
        "3. **Action**: It tells you which color to use for each page.\n",
        "\n",
        "### Example Code\n",
        "\n",
        "Here’s some Python code that demonstrates this:\n",
        "\n",
        "```python\n",
        "# List of colors\n",
        "colors = [\"Red\", \"Blue\", \"Green\", \"Yellow\", \"Purple\"]\n",
        "\n",
        "# For loop to color each page\n",
        "for color in colors:\n",
        "    print(\"Coloring the page with\", color)\n",
        "```\n",
        "\n",
        "### What Does This Code Do?\n",
        "\n",
        "1. **List of Colors**: We have a list called `colors` with 5 colors.\n",
        "2. **For Loop**: The loop goes through each color in the list one by one.\n",
        "3. **Prints the Action**: For each color, it prints a message telling you which color to use.\n",
        "\n",
        "So, the loop will print:\n",
        "- Coloring the page with Red\n",
        "- Coloring the page with Blue\n",
        "- Coloring the page with Green\n",
        "- Coloring the page with Yellow\n",
        "- Coloring the page with Purple\n",
        "\n",
        "### Why Use a For Loop?\n",
        "\n",
        "Using a `for` loop is like having a helper who can follow instructions for each item in a list. It saves you from doing things manually over and over again, making your tasks quicker and more fun!\n",
        "\n",
        "Now, you can use `for` loops to do all sorts of cool things with lists, like handling your toys, counting, and much more!"
      ],
      "metadata": {
        "id": "0lEcLr4rsFM1"
      }
    },
    {
      "cell_type": "markdown",
      "source": [
        "### For Loop Examples"
      ],
      "metadata": {
        "id": "RKM2dbt7tIwX"
      }
    },
    {
      "cell_type": "code",
      "source": [
        "# Case 1: Counting with a Range\n",
        "# This loop counts from 1 to 5 and prints each number.\n",
        "\n",
        "print(\"Case 1: Counting with a Range\")\n",
        "for number in range(1, 6):  # Loop from 1 to 5 (6 is not included)\n",
        "    print(number)          # Print the current number"
      ],
      "metadata": {
        "colab": {
          "base_uri": "https://localhost:8080/"
        },
        "id": "onF6xPKLtBWL",
        "outputId": "97ee7596-98aa-4e1a-bded-5d5d4be7cd9c"
      },
      "execution_count": null,
      "outputs": [
        {
          "output_type": "stream",
          "name": "stdout",
          "text": [
            "Case 1: Counting with a Range\n",
            "1\n",
            "2\n",
            "3\n",
            "4\n",
            "5\n"
          ]
        }
      ]
    },
    {
      "cell_type": "code",
      "source": [
        "# Case 2: Iterating Over a List\n",
        "# This loop prints each item in a list of fruits.\n",
        "\n",
        "print(\"\\nCase 2: Iterating Over a List\")\n",
        "fruits = [\"Apple\", \"Banana\", \"Cherry\", \"Date\", \"Elderberry\"]  # List of fruits\n",
        "\n",
        "for fruit in fruits:  # Loop through each fruit in the list\n",
        "    print(fruit)      # Print the current fruit"
      ],
      "metadata": {
        "colab": {
          "base_uri": "https://localhost:8080/"
        },
        "id": "YbFDfPtFtRSu",
        "outputId": "631b1dbc-e5a8-410c-ef87-d3200d741e00"
      },
      "execution_count": null,
      "outputs": [
        {
          "output_type": "stream",
          "name": "stdout",
          "text": [
            "\n",
            "Case 2: Iterating Over a List\n",
            "Apple\n",
            "Banana\n",
            "Cherry\n",
            "Date\n",
            "Elderberry\n"
          ]
        }
      ]
    },
    {
      "cell_type": "code",
      "source": [
        "# Case 3: Summing Numbers\n",
        "# This loop adds numbers from 1 to 5 and prints the total sum.\n",
        "\n",
        "print(\"\\nCase 3: Summing Numbers\")\n",
        "total_sum = 0  # Initialize the total sum to 0\n",
        "\n",
        "for number in range(1, 6):  # Loop from 1 to 5 (6 is not included)\n",
        "    total_sum += number  # Add the current number to total_sum\n",
        "\n",
        "print(\"The total sum is:\", total_sum)  # Print the total sum"
      ],
      "metadata": {
        "colab": {
          "base_uri": "https://localhost:8080/"
        },
        "id": "G796M_Phtymu",
        "outputId": "920c1edc-26d3-4dd4-b910-26d0f256ecfb"
      },
      "execution_count": null,
      "outputs": [
        {
          "output_type": "stream",
          "name": "stdout",
          "text": [
            "\n",
            "Case 3: Summing Numbers\n",
            "The total sum is: 15\n"
          ]
        }
      ]
    },
    {
      "cell_type": "code",
      "source": [
        "# Case 4: Nested Loops\n",
        "# This loop prints a multiplication table for numbers 1 through 3.\n",
        "\n",
        "print(\"\\nCase 4: Nested Loops\")\n",
        "for i in range(1, 4):  # Loop for the rows (1 through 3)\n",
        "    for j in range(1, 4):  # Loop for the columns (1 through 3)\n",
        "        print(i * j, end=\"\\t\")  # Print the product of i and j, with a tab space\n",
        "    print()  # Print a new line after each row"
      ],
      "metadata": {
        "colab": {
          "base_uri": "https://localhost:8080/"
        },
        "id": "35IwCb1rt7R6",
        "outputId": "a98412c9-32dc-4c3e-e8cc-d8ce2b9098ac"
      },
      "execution_count": null,
      "outputs": [
        {
          "output_type": "stream",
          "name": "stdout",
          "text": [
            "\n",
            "Case 4: Nested Loops\n",
            "1\t2\t3\t\n",
            "2\t4\t6\t\n",
            "3\t6\t9\t\n"
          ]
        }
      ]
    },
    {
      "cell_type": "markdown",
      "source": [
        "### Explanation of For Loop code examples\n",
        "\n",
        "**Case 1: Counting with a Range**\n",
        "\n",
        "Uses range(1, 6) to create a sequence from 1 to 5. The loop iterates through each number in this range and prints it.\n",
        "\n",
        "**Case 2: Iterating Over a List**\n",
        "\n",
        "Loops through each item in the fruits list and prints each fruit.\n",
        "\n",
        "**Case 3: Summing Numbers**\n",
        "\n",
        "Adds numbers from 1 to 5 and prints the total sum. The total_sum variable accumulates the sum as the loop iterates.\n",
        "\n",
        "**Case 4: Nested Loops**\n",
        "\n",
        "Demonstrates a nested loop to create a multiplication table. The outer loop iterates through rows and the inner loop iterates through columns, printing the product of the row and column numbers."
      ],
      "metadata": {
        "id": "CN-hnIKVuMEK"
      }
    },
    {
      "cell_type": "markdown",
      "source": [
        "## Conclusion\n",
        "\n",
        "So far, we’ve explored the exciting world of Python programming and learned a lot of cool things! Here’s a quick summary of what we’ve covered:\n",
        "\n",
        "1. **Introduction to Python**\n",
        "   - **Class 1**: We started with the basics of programming and Python. We got familiar with Google Colab, learned how to use `print` statements, and understood the basic syntax.\n",
        "\n",
        "2. **Class 2**: We built on that by learning about functions like `len`, basic arithmetic operations, and variables. We also introduced control structures to guide how our code runs.\n",
        "\n",
        "3. **Class 3**: We explored the Math library, focusing on the `pi` function, and continued learning about variables and data types, particularly strings.\n",
        "\n",
        "4. **Class 4**: We revised strings, learned how to handle input and output, understood Boolean expressions, and worked with conditional statements (if, elif, else). We also emphasized the importance of code indentation and introduced data structures.\n",
        "\n",
        "5. **Class 5**: We dove into loops, which help us repeat tasks automatically. We learned about two types of loops:\n",
        "   - **`while` Loop**: Keeps running as long as a condition is true.\n",
        "   - **`for` Loop**: Goes through a list or range of numbers and performs actions for each item.\n",
        "\n",
        "Loops are like magic spells that make repetitive tasks easier and faster, allowing us to focus on creating fun and useful programs.\n",
        "\n",
        "Great job following along with these lessons! Keep practicing, and you’ll become even better at Python programming. Happy coding!"
      ],
      "metadata": {
        "id": "O7EUe3eCvAjb"
      }
    },
    {
      "cell_type": "markdown",
      "source": [
        "## DIY Project: Create a Python Adventure Game\n",
        "\n",
        "**Project Overview:**\n",
        "In this project, you will create a simple text-based adventure game. The game will guide players through different scenarios where they make choices and see how the story unfolds based on their decisions. This project will use everything we’ve covered: basic syntax, variables, control structures, loops, and data types.\n",
        "\n",
        "**Project Goals:**\n",
        "- Implement basic programming concepts\n",
        "- Use loops and control structures\n",
        "- Work with variables and data types\n",
        "- Handle user input and output\n",
        "\n",
        "**Project Steps:**\n",
        "\n",
        "#### Step 1: Set Up the Game\n",
        "\n",
        "** Adventure game using loops ** :\n",
        "\n",
        "```python\n",
        "# Simple Text-Based Adventure Game with Loops\n",
        "\n",
        "while True:  # Loop to restart the game if the player chooses to play again\n",
        "    print(\"Welcome to the Adventure Game!\")\n",
        "    print(\"You are standing at the edge of a dark forest.\")\n",
        "    choice = input(\"Do you want to enter the forest or go back home? (forest/home): \").strip().lower()\n",
        "\n",
        "    if choice == \"forest\":\n",
        "        while True:  # Loop to handle choices within the forest\n",
        "            print(\"\\nYou have entered the forest. You see two paths.\")\n",
        "            choice = input(\"Do you want to go left or right? (left/right): \").strip().lower()\n",
        "            \n",
        "            if choice == \"left\":\n",
        "                while True:  # Loop to handle actions when encountering the wolf\n",
        "                    print(\"\\nOh no! A wild wolf appears!\")\n",
        "                    action = input(\"Do you want to fight or run? (fight/run): \").strip().lower()\n",
        "                    \n",
        "                    if action == \"fight\":\n",
        "                        print(\"You bravely fight the wolf and win! You found a hidden treasure!\")\n",
        "                        break  # Exit the wolf encounter loop\n",
        "                    elif action == \"run\":\n",
        "                        print(\"You run away safely and find your way back home.\")\n",
        "                        break  # Exit the wolf encounter loop\n",
        "                    else:\n",
        "                        print(\"Invalid action. Please type 'fight' or 'run'.\")\n",
        "                break  # Exit the forest path loop after handling wolf encounter\n",
        "\n",
        "            elif choice == \"right\":\n",
        "                print(\"\\nCongratulations! You found a treasure chest!\")\n",
        "                print(\"You open it and find gold and jewels.\")\n",
        "                break  # Exit the forest path loop after finding treasure\n",
        "\n",
        "            else:\n",
        "                print(\"Invalid choice. Please type 'left' or 'right'.\")\n",
        "\n",
        "    elif choice == \"home\":\n",
        "        print(\"You decided to go home. Game over.\")\n",
        "        break  # Exit the main game loop\n",
        "\n",
        "    else:\n",
        "        print(\"Invalid choice. Please type 'forest' or 'home'.\")\n",
        "\n",
        "    print(\"\\nThank you for playing the Adventure Game!\")\n",
        "    replay = input(\"Do you want to play again? (yes/no): \").strip().lower()\n",
        "\n",
        "    if replay == \"no\":\n",
        "        print(\"Goodbye!\")\n",
        "        break  # Exit the main game loop if the player does not want to replay\n",
        "    elif replay != \"yes\":\n",
        "        print(\"Invalid choice. Please type 'yes' or 'no'.\")\n",
        "```\n",
        "\n",
        "\n",
        "#### Step 2: Breakdown of the Game\n",
        "\n",
        "1. **Main Game Loop**:\n",
        "   - The outer `while True` loop keeps the game running until the player decides to stop.\n",
        "\n",
        "2. **Initial Choice**:\n",
        "   - The player chooses whether to enter the forest or go home.\n",
        "\n",
        "3. **Forest Path Loop**:\n",
        "   - Inside the forest, another loop handles the player's choice to go left or right.\n",
        "\n",
        "4. **Wolf Encounter Loop**:\n",
        "   - If the player goes left, they encounter a wolf. A loop handles their decision to fight or run.\n",
        "\n",
        "5. **Treasure Path**:\n",
        "   - If the player goes right, they find a treasure. This choice ends the forest path loop.\n",
        "\n",
        "6. **Replay Option**:\n",
        "   - After the game ends, the player is asked if they want to play again. If they choose \"no,\" the game exits; if they choose \"yes,\" the game restarts.\n",
        "\n",
        "**Note**: This version uses loops to manage different parts of the game, allowing the game to handle multiple choices and replay functionality\n",
        "\n",
        "#### Step 3: Run and Test\n",
        "\n",
        "Run the Python file to play the game. Test different choices to ensure that the game responds correctly to user input and that the story progresses as expected.\n",
        "\n",
        "#### Step 4: Extend the Game\n",
        "\n",
        "To make the game more fun and complex, you can:\n",
        "- Add more scenarios and choices.\n",
        "- Include items that players can collect.\n",
        "- Create different endings based on the choices.\n",
        "\n",
        "This project is designed to be engaging and educational, covering all the concepts you’ve learned in a fun and interactive way!"
      ],
      "metadata": {
        "id": "DgQjnTy9viQf"
      }
    },
    {
      "cell_type": "code",
      "source": [
        "# Simple Text-Based Adventure Game with Loops\n",
        "\n",
        "while True:  # Loop to restart the game if the player chooses to play again\n",
        "    print(\"Welcome to the Adventure Game!\")\n",
        "    print(\"You are standing at the edge of a dark forest.\")\n",
        "    choice = input(\"Do you want to enter the forest or go back home? (forest/home): \").strip().lower()\n",
        "\n",
        "    if choice == \"forest\":\n",
        "        while True:  # Loop to handle choices within the forest\n",
        "            print(\"\\nYou have entered the forest. You see two paths.\")\n",
        "            choice = input(\"Do you want to go left or right? (left/right): \").strip().lower()\n",
        "\n",
        "            if choice == \"left\":\n",
        "                while True:  # Loop to handle actions when encountering the wolf\n",
        "                    print(\"\\nOh no! A wild wolf appears!\")\n",
        "                    action = input(\"Do you want to fight or run? (fight/run): \").strip().lower()\n",
        "\n",
        "                    if action == \"fight\":\n",
        "                        print(\"You bravely fight the wolf and win! You found a hidden treasure!\")\n",
        "                        break  # Exit the wolf encounter loop\n",
        "                    elif action == \"run\":\n",
        "                        print(\"You run away safely and find your way back home.\")\n",
        "                        break  # Exit the wolf encounter loop\n",
        "                    else:\n",
        "                        print(\"Invalid action. Please type 'fight' or 'run'.\")\n",
        "                break  # Exit the forest path loop after handling wolf encounter\n",
        "\n",
        "            elif choice == \"right\":\n",
        "                print(\"\\nCongratulations! You found a treasure chest!\")\n",
        "                print(\"You open it and find gold and jewels.\")\n",
        "                break  # Exit the forest path loop after finding treasure\n",
        "\n",
        "            else:\n",
        "                print(\"Invalid choice. Please type 'left' or 'right'.\")\n",
        "\n",
        "    elif choice == \"home\":\n",
        "        print(\"You decided to go home. Game over.\")\n",
        "        break  # Exit the main game loop\n",
        "\n",
        "    else:\n",
        "        print(\"Invalid choice. Please type 'forest' or 'home'.\")\n",
        "\n",
        "    print(\"\\nThank you for playing the Adventure Game!\")\n",
        "    replay = input(\"Do you want to play again? (yes/no): \").strip().lower()\n",
        "\n",
        "    if replay == \"no\":\n",
        "        print(\"Goodbye!\")\n",
        "        break  # Exit the main game loop if the player does not want to replay\n",
        "    elif replay != \"yes\":\n",
        "        print(\"Invalid choice. Please type 'yes' or 'no'.\")"
      ],
      "metadata": {
        "colab": {
          "base_uri": "https://localhost:8080/"
        },
        "id": "kTS88RZU4wyP",
        "outputId": "2ff9779c-de66-4a23-d9e2-4b0bea008594"
      },
      "execution_count": null,
      "outputs": [
        {
          "output_type": "stream",
          "name": "stdout",
          "text": [
            "Welcome to the Adventure Game!\n",
            "You are standing at the edge of a dark forest.\n",
            "Do you want to enter the forest or go back home? (forest/home): forest\n",
            "\n",
            "You have entered the forest. You see two paths.\n",
            "Do you want to go left or right? (left/right): left\n",
            "\n",
            "Oh no! A wild wolf appears!\n",
            "Do you want to fight or run? (fight/run): fight\n",
            "You bravely fight the wolf and win! You found a hidden treasure!\n",
            "\n",
            "Thank you for playing the Adventure Game!\n",
            "Do you want to play again? (yes/no): yes\n",
            "Welcome to the Adventure Game!\n",
            "You are standing at the edge of a dark forest.\n",
            "Do you want to enter the forest or go back home? (forest/home): home\n",
            "You decided to go home. Game over.\n"
          ]
        }
      ]
    }
  ]
}