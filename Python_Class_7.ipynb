{
  "nbformat": 4,
  "nbformat_minor": 0,
  "metadata": {
    "colab": {
      "provenance": [],
      "toc_visible": true,
      "authorship_tag": "ABX9TyOjKwx/E4mXWZFIVRVQ6N7o",
      "include_colab_link": true
    },
    "kernelspec": {
      "name": "python3",
      "display_name": "Python 3"
    },
    "language_info": {
      "name": "python"
    }
  },
  "cells": [
    {
      "cell_type": "markdown",
      "metadata": {
        "id": "view-in-github",
        "colab_type": "text"
      },
      "source": [
        "<a href=\"https://colab.research.google.com/github/arulbenjaminchandru/Python-Notebooks/blob/main/Python_Class_7.ipynb\" target=\"_parent\"><img src=\"https://colab.research.google.com/assets/colab-badge.svg\" alt=\"Open In Colab\"/></a>"
      ]
    },
    {
      "cell_type": "markdown",
      "source": [
        "## **Python Class 7**\n",
        "\n",
        "\n",
        "*   Lists Recap\n",
        "*   Sets\n",
        "*   Dictionary\n",
        "\n",
        "\n",
        "\n",
        "---\n"
      ],
      "metadata": {
        "id": "u9K9KR9-P1IM"
      }
    },
    {
      "cell_type": "markdown",
      "source": [
        "\n",
        "### **7.1. Quick Summary of Previous Class (Lists)**\n",
        "\n",
        "In the previous class, we learned about **lists** in Python. Lists are like containers that can hold multiple items, such as numbers, strings, or even other lists. Think of a list as a collection of your favorite Marvel heroes, where each hero occupies a specific position.\n",
        "\n",
        "```python\n",
        "# Recap: Working with Lists\n",
        "\n",
        "# Creating a list of Marvel characters\n",
        "marvel_heroes = [\"Iron Man\", \"Spider-Man\", \"Captain America\", \"Black Widow\"]\n",
        "\n",
        "# Accessing elements\n",
        "print(f\"First hero: {marvel_heroes[0]}\")\n",
        "print(f\"Second hero: {marvel_heroes[1]}\")\n",
        "```\n",
        "- **Explanation**: This code creates a list called `marvel_heroes` containing the names of four Marvel superheroes. You can access each hero by their position (index) in the list. Remember, indexing starts at 0!\n",
        "\n",
        "```python\n",
        "# Modifying elements\n",
        "marvel_heroes[2] = \"Thor\"\n",
        "print(f\"Updated list: {marvel_heroes}\")\n",
        "```\n",
        "- **Explanation**: Here, we replaced \"Captain America\" with \"Thor\" in the list. Lists allow you to change the items inside them easily.\n",
        "\n",
        "```python\n",
        "# Adding a new hero\n",
        "marvel_heroes.append(\"Hulk\")\n",
        "print(f\"List after adding Hulk: {marvel_heroes}\")\n",
        "```\n",
        "- **Explanation**: The `append` method adds a new item to the end of the list. In this case, \"Hulk\" is added.\n",
        "\n",
        "```python\n",
        "# Removing a hero\n",
        "marvel_heroes.remove(\"Black Widow\")\n",
        "print(f\"List after removing Black Widow: {marvel_heroes}\")\n",
        "```\n",
        "- **Explanation**: The `remove` method deletes the specified item from the list. We removed \"Black Widow\" from our list of heroes.\n",
        "\n",
        "---\n",
        "\n"
      ],
      "metadata": {
        "id": "skNtNAw0QS65"
      }
    },
    {
      "cell_type": "markdown",
      "source": [
        "#### **Basic List Methods Recap**\n",
        "\n",
        "Lists come with several built-in methods that make it easy to manipulate the data. Let's explore some of these methods.\n",
        "\n",
        "```python\n",
        "# List methods: append, remove, pop, insert, sort\n",
        "\n",
        "# Append: Adding a new hero\n",
        "marvel_heroes.append(\"Doctor Strange\")\n",
        "print(f\"List after adding Doctor Strange: {marvel_heroes}\")\n",
        "```\n",
        "- **Explanation**: The `append` method is used again here to add \"Doctor Strange\" to the end of the list.\n",
        "\n",
        "```python\n",
        "# Remove: Removing a hero by name\n",
        "marvel_heroes.remove(\"Thor\")\n",
        "print(f\"List after removing Thor: {marvel_heroes}\")\n",
        "```\n",
        "- **Explanation**: The `remove` method takes out \"Thor\" from the list. This method searches for the item by its value and removes it.\n",
        "\n",
        "```python\n",
        "# Pop: Removing the last hero in the list\n",
        "last_hero = marvel_heroes.pop()\n",
        "print(f\"Removed hero: {last_hero}\")\n",
        "print(f\"List after popping the last hero: {marvel_heroes}\")\n",
        "```\n",
        "- **Explanation**: The `pop` method removes and returns the last item in the list. This is useful when you want to remove the last element but still need to know what it was.\n",
        "\n",
        "```python\n",
        "# Insert: Inserting a hero at a specific position\n",
        "marvel_heroes.insert(1, \"Black Panther\")\n",
        "print(f\"List after inserting Black Panther at position 1: {marvel_heroes}\")\n",
        "```\n",
        "- **Explanation**: The `insert` method adds an item at a specific position in the list. Here, \"Black Panther\" is inserted at index 1, shifting the other elements to the right.\n",
        "\n",
        "```python\n",
        "# Sort: Sorting the list alphabetically\n",
        "marvel_heroes.sort()\n",
        "print(f\"List after sorting: {marvel_heroes}\")\n",
        "```\n",
        "\n",
        "- **Explanation**: The `sort` method arranges the items in the list in alphabetical order. This can be useful when you want to organize your data.\n",
        "\n",
        "---\n",
        "\n"
      ],
      "metadata": {
        "id": "7y9lj9KeQZOd"
      }
    },
    {
      "cell_type": "markdown",
      "source": [
        "### **7.2. Introduction to Sets**\n",
        "\n",
        "Sets in Python are an unordered collection of unique items. Unlike lists, sets do not allow duplicate elements. This makes sets perfect for storing items that must be unique, such as a collection of different fruits or favorite books.\n",
        "\n",
        "```python\n",
        "# Creating a Set of Fruits\n",
        "\n",
        "fruits = {\"apple\", \"banana\", \"cherry\", \"apple\", \"orange\"}\n",
        "print(f\"Fruits: {fruits}\")\n",
        "```\n",
        "- **Explanation**: This code creates a set called `fruits`. Notice that even though \"apple\" is listed twice, it only appears once in the set because sets automatically remove duplicates.\n",
        "\n",
        "---\n"
      ],
      "metadata": {
        "id": "jpTzykfDRQ-T"
      }
    },
    {
      "cell_type": "code",
      "source": [
        "# Creating a Set of Fruits\n",
        "\n",
        "fruits = {\"apple\", \"banana\", \"cherry\", \"apple\", \"orange\"}\n",
        "print(f\"Fruits: {fruits}\")"
      ],
      "metadata": {
        "colab": {
          "base_uri": "https://localhost:8080/"
        },
        "id": "VkqrYpjFUfw0",
        "outputId": "46944534-cce0-4060-e14d-ea2d25cd57d8"
      },
      "execution_count": 1,
      "outputs": [
        {
          "output_type": "stream",
          "name": "stdout",
          "text": [
            "Fruits: {'banana', 'orange', 'apple', 'cherry'}\n"
          ]
        }
      ]
    },
    {
      "cell_type": "markdown",
      "source": [
        "\n",
        "#### **7.2.1 Basic Set Operations**\n",
        "\n",
        "Sets support various operations that allow you to compare, combine, and manipulate them.\n",
        "\n",
        "```python\n",
        "# Adding an element to the set\n",
        "fruits.add(\"grape\")\n",
        "print(f\"Set after adding grape: {fruits}\")\n",
        "\n",
        "# Removing an element from the set\n",
        "fruits.remove(\"banana\")\n",
        "print(f\"Set after removing banana: {fruits}\")\n",
        "```\n",
        "- **Explanation**:\n",
        "  - The `add` method adds a new item to the set. If the item already exists, the set remains unchanged.\n",
        "  - The `remove` method deletes an item from the set. If the item is not present, it raises an error.\n",
        "\n",
        "---\n"
      ],
      "metadata": {
        "id": "f5oSA_4gR3T2"
      }
    },
    {
      "cell_type": "code",
      "source": [
        "# Adding an element to the set\n",
        "fruits.add(\"grape\")\n",
        "print(f\"Set after adding grape: {fruits}\")\n",
        "\n",
        "# Removing an element from the set\n",
        "fruits.remove(\"banana\")\n",
        "print(f\"Set after removing banana: {fruits}\")"
      ],
      "metadata": {
        "colab": {
          "base_uri": "https://localhost:8080/"
        },
        "id": "jgBIIm6uUmAJ",
        "outputId": "e186ca1d-596c-49a8-d484-e98984c451db"
      },
      "execution_count": 2,
      "outputs": [
        {
          "output_type": "stream",
          "name": "stdout",
          "text": [
            "Set after adding grape: {'apple', 'orange', 'banana', 'cherry', 'grape'}\n",
            "Set after removing banana: {'apple', 'orange', 'cherry', 'grape'}\n"
          ]
        }
      ]
    },
    {
      "cell_type": "markdown",
      "source": [
        "\n",
        "#### **7.2.2 Set Operations: Union, Intersection, Difference**\n",
        "\n",
        "Sets allow you to perform operations like union, intersection, and difference. Let's explore these with some real-world examples.\n",
        "\n",
        "```python\n",
        "# Creating another set of fruits\n",
        "tropical_fruits = {\"banana\", \"pineapple\", \"mango\", \"orange\"}\n",
        "summer_fruits = {\"watermelon\", \"peach\", \"mango\", \"grape\", \"pineapple\"}\n",
        "\n",
        "# Union: Combining two sets\n",
        "all_fruits = tropical_fruits.union(summer_fruits)\n",
        "print(f\"Union of tropical and summer fruits: {all_fruits}\")\n",
        "\n",
        "# Intersection: Finding common elements\n",
        "common_fruits = tropical_fruits.intersection(summer_fruits)\n",
        "print(f\"Common fruits between tropical and summer: {common_fruits}\")\n",
        "\n",
        "# Difference: Finding elements in one set but not the other\n",
        "tropical_not_summer = tropical_fruits.difference(summer_fruits)\n",
        "print(f\"Tropical fruits that are not summer fruits: {tropical_not_summer}\")\n",
        "```\n",
        "- **Explanation**:\n",
        "  - **Union**: The `union` method combines two sets, returning a new set with all unique items from both sets.\n",
        "  - **Intersection**: The `intersection` method returns a set containing only the items present in both sets.\n",
        "  - **Difference**: The `difference` method returns a set containing items that are in the first set but not in the second.\n",
        "\n",
        "---\n"
      ],
      "metadata": {
        "id": "hXT29wluR_7d"
      }
    },
    {
      "cell_type": "code",
      "source": [
        "# Creating another set of fruits\n",
        "tropical_fruits = {\"banana\", \"pineapple\", \"mango\", \"orange\"}\n",
        "summer_fruits = {\"watermelon\", \"peach\", \"mango\", \"grape\", \"pineapple\"}\n",
        "\n",
        "# Union: Combining two sets\n",
        "all_fruits = tropical_fruits.union(summer_fruits)\n",
        "print(f\"Union of tropical and summer fruits: {all_fruits}\")\n",
        "\n",
        "# Intersection: Finding common elements\n",
        "common_fruits = tropical_fruits.intersection(summer_fruits)\n",
        "print(f\"Common fruits between tropical and summer: {common_fruits}\")\n",
        "\n",
        "# Difference: Finding elements in one set but not the other\n",
        "tropical_not_summer = tropical_fruits.difference(summer_fruits)\n",
        "print(f\"Tropical fruits that are not summer fruits: {tropical_not_summer}\")"
      ],
      "metadata": {
        "colab": {
          "base_uri": "https://localhost:8080/"
        },
        "id": "SB6-boxJUrEH",
        "outputId": "bb8fc940-feef-41b6-ef2e-42c94bc3f477"
      },
      "execution_count": 3,
      "outputs": [
        {
          "output_type": "stream",
          "name": "stdout",
          "text": [
            "Union of tropical and summer fruits: {'mango', 'orange', 'watermelon', 'banana', 'peach', 'pineapple', 'grape'}\n",
            "Common fruits between tropical and summer: {'mango', 'pineapple'}\n",
            "Tropical fruits that are not summer fruits: {'banana', 'orange'}\n"
          ]
        }
      ]
    },
    {
      "cell_type": "markdown",
      "source": [
        "\n",
        "#### **7.2.3 Checking Membership**\n",
        "\n",
        "Sets are ideal for membership tests because they are optimized to check if an item is present.\n",
        "\n",
        "```python\n",
        "# Checking membership\n",
        "is_mango_tropical = \"mango\" in tropical_fruits\n",
        "print(f\"Is mango a tropical fruit? {is_mango_tropical}\")\n",
        "\n",
        "is_pear_summer = \"pear\" in summer_fruits\n",
        "print(f\"Is pear a summer fruit? {is_pear_summer}\")\n",
        "```\n",
        "- **Explanation**: The `in` keyword checks if an item is in the set. This operation is very efficient with sets.\n",
        "\n",
        "---\n"
      ],
      "metadata": {
        "id": "sXYlth8LSH16"
      }
    },
    {
      "cell_type": "code",
      "source": [
        "# Checking membership\n",
        "is_mango_tropical = \"mango\" in tropical_fruits\n",
        "print(f\"Is mango a tropical fruit? {is_mango_tropical}\")\n",
        "\n",
        "is_pear_summer = \"pear\" in summer_fruits\n",
        "print(f\"Is pear a summer fruit? {is_pear_summer}\")"
      ],
      "metadata": {
        "colab": {
          "base_uri": "https://localhost:8080/"
        },
        "id": "VQyXF_ffUwiP",
        "outputId": "20150cb7-4740-4b31-8fb4-fa08b94b4355"
      },
      "execution_count": 4,
      "outputs": [
        {
          "output_type": "stream",
          "name": "stdout",
          "text": [
            "Is mango a tropical fruit? True\n",
            "Is pear a summer fruit? False\n"
          ]
        }
      ]
    },
    {
      "cell_type": "markdown",
      "source": [
        "\n",
        "#### **7.2.4 DIY Challenge: Working with Sets**\n",
        "\n",
        "**Challenge:**\n",
        "Create two sets, one with your favorite books and another with books recommended by a friend. Then perform the following operations:\n",
        "\n",
        "1. Find out if a specific book is in either set.\n",
        "2. Combine both sets to see all unique books.\n",
        "3. Identify books that are in both your set and your friend's set.\n",
        "4. List the books that are in your set but not in your friend's set.\n",
        "\n",
        "Here’s a structure to get you started:\n",
        "\n",
        "```python\n",
        "# Challenge: Favorite Books and Recommendations Sets\n",
        "\n",
        "my_books = {\"1984\", \"To Kill a Mockingbird\", \"The Great Gatsby\", \"Moby Dick\"}\n",
        "friend_books = {\"The Catcher in the Rye\", \"1984\", \"Moby Dick\", \"Pride and Prejudice\"}\n",
        "\n",
        "# 1. Check if \"1984\" is in either set\n",
        "is_1984_in_mine = \"1984\" in my_books\n",
        "is_1984_in_friends = \"1984\" in friend_books\n",
        "print(f\"Is '1984' in my collection? {is_1984_in_mine}\")\n",
        "print(f\"Is '1984' in my friend's collection? {is_1984_in_friends}\")\n",
        "\n",
        "# 2. Combine both sets\n",
        "all_books = my_books.union(friend_books)\n",
        "print(f\"All unique books: {all_books}\")\n",
        "\n",
        "# 3. Books that are in both sets\n",
        "common_books = my_books.intersection(friend_books)\n",
        "print(f\"Books we both have: {common_books}\")\n",
        "\n",
        "# 4. Books that are only in my collection\n",
        "only_my_books = my_books.difference(friend_books)\n",
        "print(f\"Books only I have: {only_my_books}\")\n",
        "```\n",
        "\n",
        "---\n",
        "\n",
        "This notebook introduces your student to sets in Python with relatable, everyday examples. The exercises encourage them to apply what they've learned in practical scenarios, helping reinforce the concepts."
      ],
      "metadata": {
        "id": "rP53sonQSTeD"
      }
    },
    {
      "cell_type": "markdown",
      "source": [
        "### **7.3. Introduction to Dictionaries**\n",
        "\n",
        "Dictionaries in Python are collections of key-value pairs. Think of a dictionary as a real-world dictionary where you look up a word (key) to find its definition (value). In Python, dictionaries are used to store data values in key-value pairs.\n",
        "\n",
        "```python\n",
        "# Creating a Dictionary of Students and Their Grades\n",
        "\n",
        "student_grades = {\n",
        "    \"Alice\": \"A\",\n",
        "    \"Bob\": \"B+\",\n",
        "    \"Charlie\": \"A-\",\n",
        "    \"Diana\": \"B\",\n",
        "}\n",
        "\n",
        "print(f\"Student Grades: {student_grades}\")\n",
        "```\n",
        "- **Explanation**: This code creates a dictionary called `student_grades` where each student's name is a key, and their grade is the corresponding value.\n",
        "\n",
        "---\n"
      ],
      "metadata": {
        "id": "Hl0k7RmQQe1N"
      }
    },
    {
      "cell_type": "code",
      "source": [
        "# Creating a Dictionary of Students and Their Grades\n",
        "\n",
        "student_grades = {\n",
        "    \"Alice\": \"A\",\n",
        "    \"Bob\": \"B+\",\n",
        "    \"Charlie\": \"A-\",\n",
        "    \"Diana\": \"B\",\n",
        "}\n",
        "\n",
        "print(f\"Student Grades: {student_grades}\")"
      ],
      "metadata": {
        "colab": {
          "base_uri": "https://localhost:8080/"
        },
        "id": "PHGQJgPZU1Dg",
        "outputId": "fd747e92-c1bf-49f6-addc-0e0834f2c856"
      },
      "execution_count": 5,
      "outputs": [
        {
          "output_type": "stream",
          "name": "stdout",
          "text": [
            "Student Grades: {'Alice': 'A', 'Bob': 'B+', 'Charlie': 'A-', 'Diana': 'B'}\n"
          ]
        }
      ]
    },
    {
      "cell_type": "markdown",
      "source": [
        "\n",
        "#### **7.3.1. Accessing and Modifying Dictionary Values**\n",
        "\n",
        "You can access, add, modify, or remove values in a dictionary using their keys.\n",
        "\n",
        "```python\n",
        "# Accessing a value in the dictionary\n",
        "alice_grade = student_grades[\"Alice\"]\n",
        "print(f\"Alice's Grade: {alice_grade}\")\n",
        "\n",
        "# Adding a new key-value pair\n",
        "student_grades[\"Eve\"] = \"A\"\n",
        "print(f\"Updated Grades: {student_grades}\")\n",
        "\n",
        "# Modifying an existing value\n",
        "student_grades[\"Bob\"] = \"A-\"\n",
        "print(f\"Bob's updated grade: {student_grades['Bob']}\")\n",
        "\n",
        "# Removing a key-value pair\n",
        "del student_grades[\"Charlie\"]\n",
        "print(f\"Grades after removing Charlie: {student_grades}\")\n",
        "```\n",
        "- **Explanation**:\n",
        "  - Access a value using the key in square brackets (`[]`).\n",
        "  - Add a new key-value pair by assigning a value to a new key.\n",
        "  - Modify an existing value by reassigning a new value to an existing key.\n",
        "  - Remove a key-value pair using the `del` keyword.\n",
        "\n",
        "---\n"
      ],
      "metadata": {
        "id": "h-QCbLYJTtBv"
      }
    },
    {
      "cell_type": "code",
      "source": [
        "# Accessing a value in the dictionary\n",
        "alice_grade = student_grades[\"Alice\"]\n",
        "print(f\"Alice's Grade: {alice_grade}\")\n",
        "\n",
        "# Adding a new key-value pair\n",
        "student_grades[\"Eve\"] = \"A\"\n",
        "print(f\"Updated Grades: {student_grades}\")\n",
        "\n",
        "# Modifying an existing value\n",
        "student_grades[\"Bob\"] = \"A-\"\n",
        "print(f\"Bob's updated grade: {student_grades['Bob']}\")\n",
        "\n",
        "# Removing a key-value pair\n",
        "del student_grades[\"Charlie\"]\n",
        "print(f\"Grades after removing Charlie: {student_grades}\")"
      ],
      "metadata": {
        "colab": {
          "base_uri": "https://localhost:8080/"
        },
        "id": "Yd4xAVdVU45t",
        "outputId": "03f0fbc2-7e53-448b-fa54-6446037cbed0"
      },
      "execution_count": 6,
      "outputs": [
        {
          "output_type": "stream",
          "name": "stdout",
          "text": [
            "Alice's Grade: A\n",
            "Updated Grades: {'Alice': 'A', 'Bob': 'B+', 'Charlie': 'A-', 'Diana': 'B', 'Eve': 'A'}\n",
            "Bob's updated grade: A-\n",
            "Grades after removing Charlie: {'Alice': 'A', 'Bob': 'A-', 'Diana': 'B', 'Eve': 'A'}\n"
          ]
        }
      ]
    },
    {
      "cell_type": "markdown",
      "source": [
        "\n",
        "#### **7.3.2 Dictionary Methods**\n",
        "\n",
        "Dictionaries come with several useful methods that make working with them easier.\n",
        "\n",
        "```python\n",
        "# Getting all keys\n",
        "students = student_grades.keys()\n",
        "print(f\"Students: {students}\")\n",
        "\n",
        "# Getting all values\n",
        "grades = student_grades.values()\n",
        "print(f\"Grades: {grades}\")\n",
        "\n",
        "# Checking if a key exists\n",
        "has_diana = \"Diana\" in student_grades\n",
        "print(f\"Is Diana in the dictionary? {has_diana}\")\n",
        "\n",
        "# Getting a value with a default if the key doesn't exist\n",
        "frank_grade = student_grades.get(\"Frank\", \"No grade available\")\n",
        "print(f\"Frank's Grade: {frank_grade}\")\n",
        "```\n",
        "- **Explanation**:\n",
        "  - The `keys` method returns all the keys in the dictionary.\n",
        "  - The `values` method returns all the values.\n",
        "  - The `in` keyword checks if a key exists in the dictionary.\n",
        "  - The `get` method safely retrieves a value and returns a default value if the key isn't found.\n",
        "\n",
        "---\n"
      ],
      "metadata": {
        "id": "keeZq9KrT0s4"
      }
    },
    {
      "cell_type": "code",
      "source": [
        "# Getting all keys\n",
        "students = student_grades.keys()\n",
        "print(f\"Students: {students}\")\n",
        "\n",
        "# Getting all values\n",
        "grades = student_grades.values()\n",
        "print(f\"Grades: {grades}\")\n",
        "\n",
        "# Checking if a key exists\n",
        "has_diana = \"Diana\" in student_grades\n",
        "print(f\"Is Diana in the dictionary? {has_diana}\")\n",
        "\n",
        "# Getting a value with a default if the key doesn't exist\n",
        "frank_grade = student_grades.get(\"Frank\", \"No grade available\")\n",
        "print(f\"Frank's Grade: {frank_grade}\")"
      ],
      "metadata": {
        "colab": {
          "base_uri": "https://localhost:8080/"
        },
        "id": "1I4cRITxU9BE",
        "outputId": "7c08b69c-b9f9-4d02-fb0d-0e0c68633aa5"
      },
      "execution_count": 7,
      "outputs": [
        {
          "output_type": "stream",
          "name": "stdout",
          "text": [
            "Students: dict_keys(['Alice', 'Bob', 'Diana', 'Eve'])\n",
            "Grades: dict_values(['A', 'A-', 'B', 'A'])\n",
            "Is Diana in the dictionary? True\n",
            "Frank's Grade: No grade available\n"
          ]
        }
      ]
    },
    {
      "cell_type": "markdown",
      "source": [
        "\n",
        "#### **7.3.3 DIY Challenge: Working with Dictionaries**\n",
        "\n",
        "**Challenge:**\n",
        "Create a dictionary of your favorite books and their authors. Then perform the following tasks:\n",
        "\n",
        "1. Add a new book to the dictionary.\n",
        "2. Update the author of an existing book.\n",
        "3. Remove a book from the dictionary.\n",
        "4. Check if a specific book is in the dictionary.\n",
        "\n",
        "Here’s a structure to get you started:\n",
        "\n",
        "```python\n",
        "# Challenge: Favorite Books and Authors\n",
        "\n",
        "favorite_books = {\n",
        "    \"1984\": \"George Orwell\",\n",
        "    \"To Kill a Mockingbird\": \"Harper Lee\",\n",
        "    \"The Great Gatsby\": \"F. Scott Fitzgerald\",\n",
        "}\n",
        "\n",
        "# 1. Add a new book\n",
        "favorite_books[\"Pride and Prejudice\"] = \"Jane Austen\"\n",
        "print(f\"Updated Books: {favorite_books}\")\n",
        "\n",
        "# 2. Update an existing book's author\n",
        "favorite_books[\"1984\"] = \"Orwell\"\n",
        "print(f\"Updated Author for 1984: {favorite_books['1984']}\")\n",
        "\n",
        "# 3. Remove a book\n",
        "del favorite_books[\"The Great Gatsby\"]\n",
        "print(f\"Books after removal: {favorite_books}\")\n",
        "\n",
        "# 4. Check if a book is in the dictionary\n",
        "has_mockingbird = \"To Kill a Mockingbird\" in favorite_books\n",
        "print(f\"Is 'To Kill a Mockingbird' in the dictionary? {has_mockingbird}\")\n",
        "```\n",
        "\n",
        "---\n"
      ],
      "metadata": {
        "id": "9vrqe6hzT6-r"
      }
    },
    {
      "cell_type": "markdown",
      "source": [
        "## **Class 7: Conclusion**\n",
        "\n",
        "In this class, we explored three fundamental data structures in Python: **Lists**, **Sets**, and **Dictionaries**. Each of these structures is designed to handle collections of data, but they serve different purposes and have unique features.\n",
        "\n",
        "1. **Lists**:\n",
        "   - **Ordered**: Items are stored in a specific order, and you can access them by their index.\n",
        "   - **Mutable**: You can add, remove, or modify items.\n",
        "   - **Allows Duplicates**: You can have multiple items with the same value.\n",
        "\n",
        "   Example: A list of favorite colors, where order and duplicates matter.\n",
        "\n",
        "2. **Sets**:\n",
        "   - **Unordered**: Items have no specific order, and you cannot access them by index.\n",
        "   - **Mutable**: You can add or remove items, but modifying individual items is not allowed.\n",
        "   - **No Duplicates**: Each item must be unique, making sets perfect for managing collections where duplicates are not allowed.\n",
        "\n",
        "   Example: A set of unique fruits collected in a basket.\n",
        "\n",
        "3. **Dictionaries**:\n",
        "   - **Key-Value Pairs**: Data is stored as pairs, where each key is unique and maps to a specific value.\n",
        "   - **Mutable**: You can add, remove, or update key-value pairs.\n",
        "   - **Fast Lookup**: Accessing values by keys is efficient, making dictionaries ideal for situations where quick lookups are required.\n",
        "\n",
        "   Example: A dictionary of students and their grades, where you can quickly find a student's grade using their name.\n",
        "\n",
        "### **Key Takeaways**:\n",
        "- **Lists** are best when you need an ordered collection of items that may include duplicates.\n",
        "- **Sets** are ideal for storing unique items without caring about the order.\n",
        "- **Dictionaries** are useful when you need to associate unique keys with specific values for quick lookups.\n",
        "\n",
        "By understanding these structures, you're better equipped to organize and manage data in your Python programs efficiently. As you continue learning, you'll find many opportunities to apply these concepts in various coding challenges and real-world projects."
      ],
      "metadata": {
        "id": "jlm3gj70UQjQ"
      }
    },
    {
      "cell_type": "code",
      "execution_count": null,
      "metadata": {
        "id": "8zjqlZo0OY7r"
      },
      "outputs": [],
      "source": []
    }
  ]
}