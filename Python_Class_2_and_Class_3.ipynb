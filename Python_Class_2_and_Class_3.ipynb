{
  "cells": [
    {
      "cell_type": "markdown",
      "metadata": {
        "id": "view-in-github",
        "colab_type": "text"
      },
      "source": [
        "<a href=\"https://colab.research.google.com/github/arulbenjaminchandru/Python-Notebooks/blob/main/Python_Class_2_and_Class_3.ipynb\" target=\"_parent\"><img src=\"https://colab.research.google.com/assets/colab-badge.svg\" alt=\"Open In Colab\"/></a>"
      ]
    },
    {
      "cell_type": "markdown",
      "source": [
        "# Class 2. Programs in a file"
      ],
      "metadata": {
        "id": "z6HDs4aWXw-y"
      }
    },
    {
      "cell_type": "markdown",
      "metadata": {
        "id": "7MsY2HTUO09G"
      },
      "source": [
        "## 2.1 Writing scripts\n",
        "Writing programs in Python to a file is VERY easy. Python programs are simply text documents - you can open them up in notepad, and have a look at them, just like that.\n",
        "In practice, however, you will use a so called __[Integrated Development Environment (IDE)](https://en.wikipedia.org/wiki/Integrated_development_environment)__ to develop your scripts.\n",
        "\n",
        "In this tutorial we'll use the Google Colab interactive fields as an IDE and simulate how we use pythons scripts in files.\n",
        "\n",
        "Have a look at the program (`mary.py`) below:"
      ]
    },
    {
      "cell_type": "code",
      "execution_count": null,
      "metadata": {
        "colab": {
          "base_uri": "https://localhost:8080/"
        },
        "id": "rv3oYbcyO09H",
        "outputId": "db307c92-28e1-4bc6-8f11-ad5b47091b99"
      },
      "outputs": [
        {
          "output_type": "stream",
          "name": "stdout",
          "text": [
            "Mary had a little lamb\n",
            "it's fleece was white as snow;\n",
            "and everywhere that Mary went her lamb was sure to go.\n"
          ]
        }
      ],
      "source": [
        "#A simple program.\n",
        "print(\"Mary had a little lamb\")\n",
        "print(\"it's fleece was white as snow;\")\n",
        "print(\"and everywhere that Mary went\", end = \" \")\n",
        "print(\"her lamb was sure to go.\")"
      ]
    },
    {
      "cell_type": "markdown",
      "metadata": {
        "id": "0kumPlU1O09H"
      },
      "source": [
        "If you run the script (`<shift> + <Return>`) it will execute lines 1 to 5 after each other. In an IDE there's always a screen where you can type the code with syntax highlighting (like in the cells of this Google Colab Notebook), a window where you can see the output and a button to run the script. The scripts are saved as `.py` files. These can be run from your command line - Open the terminal window, go to the folder and then type `Python mary.py`. Your program will now execute in the command line.\n",
        "\n",
        "In line 4 `end = \" \"` inserts a space instead of a new line at the end of the `print` operator."
      ]
    },
    {
      "cell_type": "markdown",
      "source": [
        "## 2.2 Algebra in Python\n",
        "In Python, you can use the ** operator to calculate powers."
      ],
      "metadata": {
        "id": "G6xUQP-jWOYE"
      }
    },
    {
      "cell_type": "code",
      "source": [
        "# For example, to calculate (a+b)^2, you would write:\n",
        "\n",
        "a = 3\n",
        "b = 4\n",
        "\n",
        "result = (a + b) ** 2  # (a + b) whole square\n",
        "print(result)  # Output: 49\n",
        "\n",
        "# This calculates the square of the sum of a and b.\n"
      ],
      "metadata": {
        "id": "RxweeJWFVuxS"
      },
      "execution_count": null,
      "outputs": []
    },
    {
      "cell_type": "code",
      "source": [
        "a = 1\n",
        "b = 2\n",
        "\n",
        "(a ** 2) + (b ** 2) + 2 * a * b\n",
        "\n",
        "(a + b) * (a + b)"
      ],
      "metadata": {
        "colab": {
          "base_uri": "https://localhost:8080/"
        },
        "id": "ottZF-9iYn1h",
        "outputId": "1dcf5241-37eb-4847-d6d6-c8efa387fc7f"
      },
      "execution_count": 1,
      "outputs": [
        {
          "output_type": "execute_result",
          "data": {
            "text/plain": [
              "9"
            ]
          },
          "metadata": {},
          "execution_count": 1
        }
      ]
    },
    {
      "cell_type": "code",
      "source": [
        "arul = 19\n",
        "b123 = 2\n",
        "\n",
        "c = arul/b123\n",
        "\n",
        "c\n",
        "\n",
        "# Anything divided by zero will be infinity\n",
        "# We cannot divide anything by zero and python will throw the following error\n",
        "   # ZeroDivisionError: division by zero\n",
        "\n"
      ],
      "metadata": {
        "colab": {
          "base_uri": "https://localhost:8080/"
        },
        "id": "IO6go6oxdv6L",
        "outputId": "3bd25706-1c92-47e0-f798-15122f5712fa"
      },
      "execution_count": 19,
      "outputs": [
        {
          "output_type": "execute_result",
          "data": {
            "text/plain": [
              "9.5"
            ]
          },
          "metadata": {},
          "execution_count": 19
        }
      ]
    },
    {
      "cell_type": "markdown",
      "source": [
        "# Class 3 : variables and strings"
      ],
      "metadata": {
        "id": "9x2Bqcr4YDI4"
      }
    },
    {
      "cell_type": "markdown",
      "metadata": {
        "id": "25klx6mcO09H"
      },
      "source": [
        "## 3.1 Variables\n",
        "Now let's start introducing variables. Variables store a value, that can be looked at or changed at a later time. Let's make a program that uses variables:"
      ]
    },
    {
      "cell_type": "code",
      "execution_count": 20,
      "metadata": {
        "id": "wxCGMBcAO09H",
        "colab": {
          "base_uri": "https://localhost:8080/"
        },
        "outputId": "45918a80-84ce-42c8-8d38-89e947363eb8"
      },
      "outputs": [
        {
          "output_type": "stream",
          "name": "stdout",
          "text": [
            "This program is a demo of variables\n",
            "The value of v is now 1\n",
            "v now equals itself plus one, making it worth 2\n",
            "v can store any numerical value, to be used elsewhere.\n",
            "for example, in a sentence. v is now worth 51\n",
            "v times 5 equals 255\n",
            "but v still only remains 51\n",
            "to make v five times bigger, you would have to type v = v * 5\n",
            "there you go, now v equals 255 and not 51.0\n"
          ]
        }
      ],
      "source": [
        "#variables demonstrated\n",
        "print(\"This program is a demo of variables\")\n",
        "v = 1\n",
        "print(\"The value of v is now\", v)\n",
        "v = v + 1\n",
        "print(\"v now equals itself plus one, making it worth\", v)\n",
        "v = 51\n",
        "print(\"v can store any numerical value, to be used elsewhere.\")\n",
        "print(\"for example, in a sentence. v is now worth\", v)\n",
        "print(\"v times 5 equals\", v * 5)\n",
        "print(\"but v still only remains\", v)\n",
        "print(\"to make v five times bigger, you would have to type v = v * 5\")\n",
        "v = v * 5\n",
        "print(\"there you go, now v equals\", v, \"and not\", v / 5)"
      ]
    },
    {
      "cell_type": "markdown",
      "metadata": {
        "id": "hnX17DikO09I"
      },
      "source": [
        "Run the script and try to understand the results."
      ]
    },
    {
      "cell_type": "markdown",
      "metadata": {
        "id": "yz834ntZO09I"
      },
      "source": [
        "Note that we can also write `v = v + 1` as `v += 1`. This can be used for all operators (e.g. `-=`, `*=`,`/=`). Try it in the code above.\n",
        "\n",
        "It is good practice to use lowercase for variables. Don't use special characters and don't start with a number!"
      ]
    },
    {
      "cell_type": "code",
      "source": [
        "v = 20\n",
        "\n",
        "v = v + 1\n",
        "\n",
        "print(v)\n",
        "\n",
        "v -= 2    # meaning is v = v - 2 -- Decrement operation\n",
        "\n",
        "print(v)\n",
        "\n",
        "v = v + 2 # Increment operation\n",
        "\n",
        "print(v)"
      ],
      "metadata": {
        "colab": {
          "base_uri": "https://localhost:8080/"
        },
        "id": "-1-9GX9QhUa6",
        "outputId": "0990ee43-cc38-4a17-cac3-0864cdc3b419"
      },
      "execution_count": 24,
      "outputs": [
        {
          "output_type": "stream",
          "name": "stdout",
          "text": [
            "21\n",
            "19\n",
            "21\n"
          ]
        }
      ]
    },
    {
      "cell_type": "markdown",
      "metadata": {
        "id": "yt_vtGLlO09I"
      },
      "source": [
        "## 3.2 Strings\n",
        "As you can see, variables store values, for use at a later time. You can change them at any time. You can put in more than numbers, though. Variables can hold things like text. A variable that holds text is called a string. Try this program:"
      ]
    },
    {
      "cell_type": "code",
      "execution_count": 26,
      "metadata": {
        "id": "HP1EhvXHO09I",
        "colab": {
          "base_uri": "https://localhost:8080/"
        },
        "outputId": "a3d9861c-9fe8-470b-a9df-6d4980b11f27"
      },
      "outputs": [
        {
          "output_type": "stream",
          "name": "stdout",
          "text": [
            "Good morning\n",
            "Good morning to you too!\n"
          ]
        }
      ],
      "source": [
        "#giving variables text, and adding text.\n",
        "word1 = \"Good\"\n",
        "word2 = \"morning\"\n",
        "word3 = \"to you too!\"\n",
        "print(word1, word2)\n",
        "sentence = word1 + \" \" + word2 + \" \" + word3\n",
        "print(sentence)"
      ]
    },
    {
      "cell_type": "code",
      "source": [
        "print(\"arul\")\n",
        "\n",
        "# whatever you are enclosing within \"Strings\"\n",
        "\n",
        "# Character - a - z or A - Z\n",
        "# String - collection of characters. words / sentences / names"
      ],
      "metadata": {
        "colab": {
          "base_uri": "https://localhost:8080/"
        },
        "id": "Ddm7dpAIiVh2",
        "outputId": "8a8654f8-69fa-4c67-cafa-5a9e977ddc75"
      },
      "execution_count": 25,
      "outputs": [
        {
          "output_type": "stream",
          "name": "stdout",
          "text": [
            "a\n"
          ]
        }
      ]
    },
    {
      "cell_type": "markdown",
      "metadata": {
        "id": "h3zfeeICO09I"
      },
      "source": [
        "As you see, the variables above were holding text. Variable names can also be longer than one letter - here, we had `word1`, `word2`, and `word3`. As you can also see, strings can be added together to make longer words or sentences. However, it doesn't add spaces in between the words - hence me putting in the `\" \"` things (there is one space between those).\n",
        "\n",
        "Often we need to manipulate strings. For example if we want to edit file names or make selections from text. Strings are similar to `lists` that you will learn later. So similar operations (called *list slicing*) apply to strings.\n",
        "\n",
        "Try the following code and explain what it does:"
      ]
    },
    {
      "cell_type": "code",
      "execution_count": 27,
      "metadata": {
        "id": "QHSTnkW3O09I",
        "colab": {
          "base_uri": "https://localhost:8080/"
        },
        "outputId": "c4e75871-01ef-43f8-e691-acc00836d5f5"
      },
      "outputs": [
        {
          "output_type": "execute_result",
          "data": {
            "text/plain": [
              "10"
            ]
          },
          "metadata": {},
          "execution_count": 27
        }
      ],
      "source": [
        "text = \"abcdefghij\"\n",
        "len(text)"
      ]
    },
    {
      "cell_type": "markdown",
      "metadata": {
        "id": "l328rfbwO09I"
      },
      "source": [
        "Yes, it shows us the amount of characters in a string.\n",
        "\n",
        "Now try this:"
      ]
    },
    {
      "cell_type": "code",
      "execution_count": 28,
      "metadata": {
        "id": "nKLRAA8MO09I",
        "colab": {
          "base_uri": "https://localhost:8080/"
        },
        "outputId": "a57142f6-e148-4c86-e01c-ae760647c4a1"
      },
      "outputs": [
        {
          "output_type": "stream",
          "name": "stdout",
          "text": [
            "e\n"
          ]
        }
      ],
      "source": [
        "print(text[4])"
      ]
    },
    {
      "cell_type": "markdown",
      "metadata": {
        "id": "5tiHumHuO09J"
      },
      "source": [
        "Here we want to print the character at position 4. Note that the first character \"a\" is at position 0! So position 4 gives us back \"e\".\n",
        "\n",
        "Now try:"
      ]
    },
    {
      "cell_type": "code",
      "execution_count": 29,
      "metadata": {
        "id": "91zHJCi_O09J",
        "colab": {
          "base_uri": "https://localhost:8080/"
        },
        "outputId": "cb290515-2b68-45b5-c864-6caaf3ca28d4"
      },
      "outputs": [
        {
          "output_type": "stream",
          "name": "stdout",
          "text": [
            "abcd\n"
          ]
        }
      ],
      "source": [
        "print(text[:4])"
      ]
    },
    {
      "cell_type": "code",
      "execution_count": 30,
      "metadata": {
        "id": "FD02LhyAO09J",
        "colab": {
          "base_uri": "https://localhost:8080/"
        },
        "outputId": "a81daee2-4b7b-4153-ab71-a3f865f43723"
      },
      "outputs": [
        {
          "output_type": "stream",
          "name": "stdout",
          "text": [
            "efghij\n"
          ]
        }
      ],
      "source": [
        "print(text[4:])"
      ]
    },
    {
      "cell_type": "markdown",
      "metadata": {
        "id": "iLOQGgICO09J"
      },
      "source": [
        "Here you see that `[:4]` selects characters 0,1,2,3, which is \"abcd\". With `[4:]` we start with position 4 (counting from 0!) until the end of the string, which results in \"efghij\".\n",
        "\n",
        "We can also specify a range. Try this:"
      ]
    },
    {
      "cell_type": "code",
      "execution_count": 31,
      "metadata": {
        "id": "e3hzD3KBO09J",
        "colab": {
          "base_uri": "https://localhost:8080/"
        },
        "outputId": "96d92be7-3718-42e8-8bb8-75160698580e"
      },
      "outputs": [
        {
          "output_type": "stream",
          "name": "stdout",
          "text": [
            "efgh\n"
          ]
        }
      ],
      "source": [
        "print(text[4:8])"
      ]
    },
    {
      "cell_type": "markdown",
      "metadata": {
        "id": "OIcVpx5qO09J"
      },
      "source": [
        "Was it what you expected?\n",
        "With ranges, the maximum value is not included in the selection.\n",
        "\n",
        "We still have the variable `sentence` available. Write code below to select the second word of the sentence using the correct range."
      ]
    },
    {
      "cell_type": "code",
      "execution_count": null,
      "metadata": {
        "id": "d1I8g0KUO09J"
      },
      "outputs": [],
      "source": []
    },
    {
      "cell_type": "markdown",
      "metadata": {
        "id": "jvDFYguLO09J"
      },
      "source": [
        "Now try this:"
      ]
    },
    {
      "cell_type": "code",
      "execution_count": 33,
      "metadata": {
        "id": "ZnmODi8yO09J",
        "colab": {
          "base_uri": "https://localhost:8080/"
        },
        "outputId": "92d1c88c-ef89-4cf4-ca3b-e0677fb079b4"
      },
      "outputs": [
        {
          "output_type": "stream",
          "name": "stdout",
          "text": [
            "i\n",
            "i\n"
          ]
        }
      ],
      "source": [
        "print(text[-2])\n",
        "print(text[8])"
      ]
    },
    {
      "cell_type": "markdown",
      "metadata": {
        "id": "OdqzQceiO09J"
      },
      "source": [
        "What did it do?\n",
        "\n",
        "Right, you have selected the second character from the right! Note that here we start counting with -1 for the first character on the right.\n",
        "\n",
        "Try this:"
      ]
    },
    {
      "cell_type": "code",
      "execution_count": 34,
      "metadata": {
        "id": "yXPaw3nsO09J",
        "colab": {
          "base_uri": "https://localhost:8080/"
        },
        "outputId": "38ee82c1-3c1e-4a0d-f318-909895301456"
      },
      "outputs": [
        {
          "output_type": "stream",
          "name": "stdout",
          "text": [
            "ghij\n"
          ]
        }
      ],
      "source": [
        "print(text[-4:])"
      ]
    },
    {
      "cell_type": "markdown",
      "metadata": {
        "id": "P4GYpSZcO09K"
      },
      "source": [
        "In human language: start with the 4th character from the right and give me all characters from that position to the end of the string.\n",
        "\n",
        "Now try this and find out what it does:"
      ]
    },
    {
      "cell_type": "code",
      "execution_count": 35,
      "metadata": {
        "id": "_59AMhbsO09K",
        "colab": {
          "base_uri": "https://localhost:8080/"
        },
        "outputId": "cf1bc79b-d6c0-46d5-fb8b-cfcc6dc1c885"
      },
      "outputs": [
        {
          "output_type": "stream",
          "name": "stdout",
          "text": [
            "acegi\n"
          ]
        }
      ],
      "source": [
        "print(text[::2])"
      ]
    },
    {
      "cell_type": "markdown",
      "metadata": {
        "id": "k2ZJyrJkO09K"
      },
      "source": [
        "We can also add the results of the *list slicing* to variables and insert this into strings using the format operation:"
      ]
    },
    {
      "cell_type": "code",
      "execution_count": 37,
      "metadata": {
        "id": "h6RXwDgLO09K",
        "colab": {
          "base_uri": "https://localhost:8080/"
        },
        "outputId": "2688295b-6ded-4196-bbe3-d401c84af9fe"
      },
      "outputs": [
        {
          "output_type": "stream",
          "name": "stdout",
          "text": [
            "Good morning to you too!\n",
            "The sentence has 24 characters and the last word is: too\n"
          ]
        }
      ],
      "source": [
        "print(sentence)\n",
        "nrOfCharacters = len(sentence)\n",
        "lastWord = sentence[-4:-1]\n",
        "print(\"The sentence has {} characters and the last word is: {}\".format(nrOfCharacters,lastWord))"
      ]
    },
    {
      "cell_type": "markdown",
      "metadata": {
        "id": "kixOlV_0O09K"
      },
      "source": [
        "So you can easily insert variables at the places of the accolades (`{}`). They will be substituted in the same order of the variables in `.format()`"
      ]
    },
    {
      "cell_type": "markdown",
      "metadata": {
        "id": "ulg6SJuCO09K"
      },
      "source": [
        "This can also be written as:"
      ]
    },
    {
      "cell_type": "code",
      "execution_count": null,
      "metadata": {
        "id": "qNlrfr93O09K"
      },
      "outputs": [],
      "source": [
        "print(f\"The sentence has {nrOfCharacters} characters and the last word is: {lastWord}\")"
      ]
    },
    {
      "cell_type": "markdown",
      "metadata": {
        "id": "wtzNgqbjO09K"
      },
      "source": [
        "Besides *list slicing* there are also other operations that we can apply to strings.\n",
        "We can count the number of occurences of a specific character in a string:"
      ]
    },
    {
      "cell_type": "code",
      "execution_count": 48,
      "metadata": {
        "id": "dCC-pUmYO09K",
        "colab": {
          "base_uri": "https://localhost:8080/"
        },
        "outputId": "524ef61f-016c-44b4-dd01-a21f9cc06f18"
      },
      "outputs": [
        {
          "output_type": "stream",
          "name": "stdout",
          "text": [
            "Good morning to you too!\n",
            "25\n"
          ]
        }
      ],
      "source": [
        "print(sentence)\n",
        "print(sentence.count(''))"
      ]
    },
    {
      "cell_type": "markdown",
      "metadata": {
        "id": "hud4Bu9NO09K"
      },
      "source": [
        "We can also find the position of character:"
      ]
    },
    {
      "cell_type": "code",
      "execution_count": 50,
      "metadata": {
        "id": "1kPcVCHNO09K",
        "colab": {
          "base_uri": "https://localhost:8080/"
        },
        "outputId": "4d2b2ccc-c8b4-4006-d8e1-62f9cb6228e8"
      },
      "outputs": [
        {
          "output_type": "stream",
          "name": "stdout",
          "text": [
            "abcdefghij\n",
            "4\n"
          ]
        }
      ],
      "source": [
        "print(text)\n",
        "print(text.find('e'))"
      ]
    },
    {
      "cell_type": "code",
      "execution_count": 51,
      "metadata": {
        "id": "52EzX3saO09L",
        "colab": {
          "base_uri": "https://localhost:8080/"
        },
        "outputId": "a6537621-9263-44bf-c806-e3d240dbefa5"
      },
      "outputs": [
        {
          "output_type": "stream",
          "name": "stdout",
          "text": [
            "17\n"
          ]
        }
      ],
      "source": [
        "sometext = \"Hey you, how are you doing?\"\n",
        "print(sometext.rfind(\"you\"))"
      ]
    },
    {
      "cell_type": "markdown",
      "metadata": {
        "id": "8fAAtKcMO09L"
      },
      "source": [
        "`rfind` returns the lasts occurance of a string. So in `sometext` we have the word \"you\" twice. `rfind` returns `17` meaning that the last time that it found \"you\" is starting at position 17 (counting from 0).\n",
        "\n",
        "There are a few other useful string operations. Run the code below and will be obvious what it does:"
      ]
    },
    {
      "cell_type": "code",
      "execution_count": null,
      "metadata": {
        "id": "NBy5WdvjO09L"
      },
      "outputs": [],
      "source": [
        "# Changes the string to upper case\n",
        "print(sometext.upper())\n",
        "\n",
        "# Splits the string on a character and returns it as list items. You'll learn about lists later\n",
        "print(sometext.split(\",\"))\n",
        "\n",
        "# Replaces strings\n",
        "print(sometext.replace(\"?\",\"!\"))"
      ]
    },
    {
      "cell_type": "markdown",
      "metadata": {
        "id": "Nr3qWYLGO09T"
      },
      "source": [
        "There are also some special characters:\n",
        "\n",
        "`\\n` jumps to a new line\n",
        "\n",
        "`\\` is an escape character. You can put it before another character that has a meaning in the code and is not considered a string. This is often used to have strings with backslashes for file names on Windows (e.g. `\"C:\\\\folder\\\\filename.txt\"`). Because `\\` is already an escape character we need to use it twice to escape the escape character!\n",
        "\n",
        "Examples:"
      ]
    },
    {
      "cell_type": "code",
      "execution_count": null,
      "metadata": {
        "id": "0BLKMZbDO09T"
      },
      "outputs": [],
      "source": [
        "print(\"This is a very long sentence and I want to split it into two lines.\")\n",
        "print(\"This is a very long sentence\\nand I want to split it into two lines.\")\n",
        "\n",
        "print(\"This sentence contains a quote and I don't want the string to end (yet)\\\"\")"
      ]
    },
    {
      "cell_type": "markdown",
      "metadata": {
        "id": "kONUY6WAO09T"
      },
      "source": [
        "## 3.3 Conclusion\n",
        "Well done! We now understand longer programs, and know the use of variables. We can also manipulate strings. Next lesson, we look at numeric variables (integers, floats) what they are, and how to use them."
      ]
    }
  ],
  "metadata": {
    "kernelspec": {
      "display_name": "Python 3 (ipykernel)",
      "language": "python",
      "name": "python3"
    },
    "language_info": {
      "codemirror_mode": {
        "name": "ipython",
        "version": 3
      },
      "file_extension": ".py",
      "mimetype": "text/x-python",
      "name": "python",
      "nbconvert_exporter": "python",
      "pygments_lexer": "ipython3",
      "version": "3.11.4"
    },
    "colab": {
      "provenance": [],
      "include_colab_link": true
    }
  },
  "nbformat": 4,
  "nbformat_minor": 0
}