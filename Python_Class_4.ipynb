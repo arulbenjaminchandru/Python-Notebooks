{
  "cells": [
    {
      "cell_type": "markdown",
      "metadata": {
        "id": "view-in-github",
        "colab_type": "text"
      },
      "source": [
        "<a href=\"https://colab.research.google.com/github/arulbenjaminchandru/Python-Notebooks/blob/main/Python_Class_4.ipynb\" target=\"_parent\"><img src=\"https://colab.research.google.com/assets/colab-badge.svg\" alt=\"Open In Colab\"/></a>"
      ]
    },
    {
      "cell_type": "markdown",
      "source": [
        "# Class 4\n",
        "\n",
        "* Simple input and output (print statement)\n",
        "* Boolean expressions\n",
        "* Conditional statements (if, elif, else)\n",
        "* Code intendation\n"
      ],
      "metadata": {
        "id": "2u9wZBE2TO5P"
      }
    },
    {
      "cell_type": "markdown",
      "source": [
        "## 4.1 Simple Input and Output in Python ##\n",
        "\n",
        "Imagine you have a magical notebook where you can ask questions and get answers. In Python, a popular computer language, we can use this magic to talk to the computer!\n",
        "\n",
        "**1. Getting Input (Asking Questions)**\n",
        "\n",
        "When you want to ask the computer something, like “What’s your name?” you use a special tool called **input()**. It’s like writing a question in your notebook.\n",
        "\n",
        "**2. Giving Output (Sharing Answers)**\n",
        "\n",
        "After you ask the question, you might want the computer to say something back. To do this, you use print(). It’s like the computer writing an answer in your notebook.\n",
        "\n",
        "Here’s a complete example that asks for your name and then greets you:"
      ],
      "metadata": {
        "id": "GkJKDj6DOd1p"
      }
    },
    {
      "cell_type": "code",
      "source": [
        "\n",
        "your_name = input(\"What's your name? \")\n",
        "print(\"Hello,\", your_name + \"!\")\n"
      ],
      "metadata": {
        "id": "TpUIqNe3Ogm4"
      },
      "execution_count": null,
      "outputs": []
    },
    {
      "cell_type": "markdown",
      "metadata": {
        "id": "ryzlH2lfNICB"
      },
      "source": [
        "## 4.2 Boolean Expressions (Boolean... what?!?) ##\n",
        "\n",
        "When you're working with loops in Python, you need to tell the computer when to keep looping and when to stop. To do this, you use something called a **boolean expression**.\n",
        "\n",
        "**What’s a boolean expression?** Think of it as a yes-or-no question that can only be answered with **TRUE** or **FALSE**. It’s like asking, “Is my age the same as the person next to me?” Here’s how it works:\n",
        "\n",
        "- If you’re the same age as the person next to you, you’d write:\n",
        "  ```python\n",
        "  My age == the age of the person next to me\n",
        "  ```\n",
        "  This is TRUE.\n",
        "\n",
        "- If you’re younger than the person opposite you, you’d write:\n",
        "  ```python\n",
        "  My age < the age of the person opposite me\n",
        "  ```\n",
        "  This is also TRUE.\n",
        "\n",
        "- If you’re older than the person opposite you and you wrote:\n",
        "  ```python\n",
        "  My age < the age of the person opposite me\n",
        "  ```\n",
        "  This would be FALSE because the opposite is true!\n",
        "\n",
        "Loops use these boolean expressions to decide whether to keep running or stop. If the expression is TRUE, the loop continues. If it’s FALSE, the loop stops.\n",
        "\n",
        "### Boolean Operators\n",
        "\n",
        "Here are some symbols (operators) used in boolean expressions:\n",
        "\n",
        "| Expression | Function  |\n",
        "|:---:|:---:|\n",
        "| `<` | Less than |\n",
        "| `<=` | Less than or equal to |\n",
        "| `>` | Greater than |\n",
        "| `>=` | Greater than or equal to |\n",
        "| `!=` | Not equal to |\n",
        "| `==` | Equal to |\n",
        "\n",
        "**Important:** Don’t mix up `=` and `==`!\n",
        "\n",
        "- `=` is used to set a value, like `age = 10`.\n",
        "- `==` is used to compare values, like checking if `age == 10`.\n",
        "\n",
        "So remember, `==` tells you if two things are the same and returns TRUE or FALSE, while `=` is just assigning a value."
      ]
    },
    {
      "cell_type": "markdown",
      "metadata": {
        "id": "odpst3HeNICB"
      },
      "source": [
        "## 4.3 Conditional Statements ##\n",
        "\n",
        "Alright! Let’s dive into a new concept—conditional statements. Unlike loops, which keep running while certain conditions are true, conditionals let us run a piece of code only once if certain conditions are met.\n",
        "\n",
        "Think of conditionals like a decision-making process: if something is true, then you do something; otherwise, you do something else. The most common conditional is the `if` statement. Here’s how it works:\n",
        "\n",
        "```python\n",
        "if {conditions to be met}:\n",
        "    {do this}\n",
        "    {and this}\n",
        "    {and this}\n",
        "{but this happens regardless}\n",
        "{because it isn't indented}\n",
        "```\n",
        "\n",
        "### Examples in Python\n",
        "\n",
        "Here's how it looks in Python:\n",
        "\n",
        "```python\n",
        "# Check if a number is positive\n",
        "number = 5\n",
        "if number > 0:\n",
        "    print(\"The number is positive.\")\n",
        "    print(\"We can use this condition to run multiple lines of code.\")\n",
        "print(\"This line runs no matter what.\")\n",
        "```\n",
        "\n",
        "In this example:\n",
        "\n",
        "- The code inside the `if` block runs only if the condition (`number > 0`) is true.\n",
        "- The code outside the `if` block runs regardless of the condition.\n",
        "\n",
        "Conditionals are great for making decisions in your programs and running code only when specific conditions are met!"
      ]
    },
    {
      "cell_type": "markdown",
      "metadata": {
        "id": "6Qc5PZdaNICC"
      },
      "source": [
        "## 4.4 `else` and `elif` - When it Ain't True\n",
        "\n",
        "Sometimes, you want to handle situations where your boolean expression isn’t true. That’s where `else` and `elif` come in handy.\n",
        "\n",
        "- **`else`**: This part tells the computer what to do if the condition in the `if` statement is not met. Think of it as a backup plan.\n",
        "\n",
        "Here’s how it works:\n",
        "\n",
        "```python\n",
        "if {condition}:\n",
        "    {do this}\n",
        "else:\n",
        "    {do this instead}\n",
        "```\n",
        "\n",
        "In this example, if the condition in the `if` statement is true, the first block of code runs. If it’s false, the code under `else` runs.\n",
        "\n",
        "- **`elif`**: Short for \"else if,\" this is used when you have more than two choices. It checks additional conditions if the initial `if` condition is false.\n",
        "\n",
        "Here’s how you can use `elif`:\n",
        "\n",
        "```python\n",
        "if {first condition}:\n",
        "    {do this}\n",
        "elif {second condition}:\n",
        "    {do this instead}\n",
        "else:\n",
        "    {do this if neither condition is met}\n",
        "```\n",
        "\n",
        "With `elif`, you can check multiple conditions in order, and the first true condition’s block of code will run. If none of the conditions are true, the `else` block runs.\n",
        "\n",
        "### Example in Python\n",
        "\n",
        "Here’s an example to illustrate `else` and `elif`:\n",
        "\n",
        "```python\n",
        "number = 10\n",
        "\n",
        "if number > 0:\n",
        "    print(\"The number is positive.\")\n",
        "elif number == 0:\n",
        "    print(\"The number is zero.\")\n",
        "else:\n",
        "    print(\"The number is negative.\")\n",
        "```\n",
        "\n",
        "In this example:\n",
        "\n",
        "- If `number` is greater than 0, the program prints \"The number is positive.\"\n",
        "- If `number` is 0, it prints \"The number is zero.\"\n",
        "- If `number` is neither of those, it prints \"The number is negative.\"\n",
        "\n",
        "Using `else` and `elif` lets you handle different scenarios and make your program respond to various conditions!"
      ]
    },
    {
      "cell_type": "code",
      "execution_count": null,
      "metadata": {
        "id": "OaX_Cbk4NICC"
      },
      "outputs": [],
      "source": [
        "a = 1\n",
        "if a > 5:\n",
        "    print(\"This shouldn't happen.\")\n",
        "else:\n",
        "    print(\"This should happen.\")"
      ]
    },
    {
      "cell_type": "markdown",
      "metadata": {
        "id": "DVg-giNNNICC"
      },
      "source": [
        "`a` is not greater than five, therefore what is under `else` is done.\n",
        "\n",
        "`elif` is just a shortened way of saying `else if`. When the `if` statement fails to be true, `elif` will do what is under it IF the conditions are met. For example:"
      ]
    },
    {
      "cell_type": "code",
      "execution_count": 1,
      "metadata": {
        "colab": {
          "base_uri": "https://localhost:8080/"
        },
        "id": "b1gtL180NICC",
        "outputId": "8cbf60c6-f8f6-4ad8-ff16-c57e556ff402"
      },
      "outputs": [
        {
          "output_type": "stream",
          "name": "stdout",
          "text": [
            "This is normal\n"
          ]
        }
      ],
      "source": [
        "z = 4\n",
        "if z > 70:\n",
        "    print(\"Something is very wrong\")\n",
        "elif z < 7:\n",
        "    print(\"This is normal\")"
      ]
    },
    {
      "cell_type": "markdown",
      "metadata": {
        "id": "JTz-XI7hNICC"
      },
      "source": [
        "The `if` statement, along with `else` and `elif` follow this form:\n",
        "```Python\n",
        "if {conditions}:\n",
        "    {run this code}\n",
        "elif {conditions}:\n",
        "    {run this code}\n",
        "elif {conditions}:\n",
        "    {run this code}\n",
        "else:\n",
        "    {run this code}\n",
        "#You can have as many or as little elif statements as you need\n",
        "#anywhere from zero to the sky.\n",
        "#You can have at most one else statement\n",
        "#and only after all other ifs and elifs.\n",
        "```"
      ]
    },
    {
      "cell_type": "markdown",
      "metadata": {
        "id": "nonhrkxKNICC"
      },
      "source": [
        "***One of the most important points to remember is that you MUST have a colon `:` at the end of every line with an `if`, `elif`, `else` or `while` in it.***"
      ]
    },
    {
      "cell_type": "markdown",
      "metadata": {
        "id": "GwuDtZ80NICC"
      },
      "source": [
        "## 4.5 Indentation\n",
        "\n",
        "In Python, **indentation** is how you show which lines of code belong together. It’s like creating a group of instructions that should run together.\n",
        "\n",
        "**Why is Indentation Important?**\n",
        "\n",
        "- **It Organizes Code**: Indentation helps Python know which lines should run when certain conditions are true or when a loop is going on.\n",
        "- **Python Requires It**: Unlike some languages that use brackets `{}` to group code, Python uses spaces or tabs.\n",
        "\n",
        "### Example\n",
        "\n",
        "Here’s a simple way to use indentation with `if` statements and `while` loops:\n",
        "\n",
        "```python\n",
        "# Using an if statement\n",
        "number = 5\n",
        "if number > 0:\n",
        "    print(\"The number is positive.\")\n",
        "    print(\"This line is also part of the if statement.\")\n",
        "print(\"This line is outside the if statement and runs no matter what.\")\n",
        "\n",
        "# Using a while loop\n",
        "count = 0\n",
        "while count < 3:\n",
        "    print(\"Count is\", count)\n",
        "    count += 1\n",
        "print(\"This line is outside the while loop and runs after the loop finishes.\")\n",
        "```\n",
        "\n",
        "**In This Example:**\n",
        "\n",
        "- **For the `if` Statement**: The two `print` statements that are indented run only if `number > 0`. The last `print` statement is not indented, so it runs no matter what.\n",
        "\n",
        "- **For the `while` Loop**: The two lines inside the `while` loop are indented to show they are part of the loop. The last `print` statement is outside the loop, so it runs after the loop is done.\n",
        "\n",
        "Indentation helps keep your code tidy and makes it clear what should happen under different conditions!"
      ]
    },
    {
      "cell_type": "code",
      "execution_count": 2,
      "metadata": {
        "colab": {
          "base_uri": "https://localhost:8080/"
        },
        "id": "FoshIVMQNICC",
        "outputId": "e7a6f417-5b5a-4386-90cb-f4e63b285707"
      },
      "outputs": [
        {
          "output_type": "stream",
          "name": "stdout",
          "text": [
            "10\n",
            "Big number!\n",
            "we just made 'a' one less than what it was!\n",
            "and unless a is not greater than 0, we'll do the loop again.\n",
            "9\n",
            "Big number!\n",
            "we just made 'a' one less than what it was!\n",
            "and unless a is not greater than 0, we'll do the loop again.\n",
            "8\n",
            "Big number!\n",
            "we just made 'a' one less than what it was!\n",
            "and unless a is not greater than 0, we'll do the loop again.\n",
            "7\n",
            "Big number!\n",
            "we just made 'a' one less than what it was!\n",
            "and unless a is not greater than 0, we'll do the loop again.\n",
            "6\n",
            "Big number!\n",
            "we just made 'a' one less than what it was!\n",
            "and unless a is not greater than 0, we'll do the loop again.\n",
            "5\n",
            "This is an odd number\n",
            "It isn't greater than five, either\n",
            "we just made 'a' one less than what it was!\n",
            "and unless a is not greater than 0, we'll do the loop again.\n",
            "4\n",
            "this number isn't greater than 5\n",
            "nor is it odd\n",
            "feeling special?\n",
            "we just made 'a' one less than what it was!\n",
            "and unless a is not greater than 0, we'll do the loop again.\n",
            "3\n",
            "This is an odd number\n",
            "It isn't greater than five, either\n",
            "we just made 'a' one less than what it was!\n",
            "and unless a is not greater than 0, we'll do the loop again.\n",
            "2\n",
            "this number isn't greater than 5\n",
            "nor is it odd\n",
            "feeling special?\n",
            "we just made 'a' one less than what it was!\n",
            "and unless a is not greater than 0, we'll do the loop again.\n",
            "1\n",
            "This is an odd number\n",
            "It isn't greater than five, either\n",
            "we just made 'a' one less than what it was!\n",
            "and unless a is not greater than 0, we'll do the loop again.\n",
            "well, it seems as if 'a' is now no bigger than 0!\n",
            "the loop is now over, and without furthur adue, so is this program!\n"
          ]
        }
      ],
      "source": [
        "a = 10\n",
        "while a > 0:\n",
        "    print(a)\n",
        "    if a > 5:\n",
        "        print(\"Big number!\")\n",
        "    elif a % 2 != 0:\n",
        "        print(\"This is an odd number\")\n",
        "        print(\"It isn't greater than five, either\")\n",
        "    else:\n",
        "        print(\"this number isn't greater than 5\")\n",
        "        print(\"nor is it odd\")\n",
        "        print(\"feeling special?\")\n",
        "    a = a - 1\n",
        "    print(\"we just made 'a' one less than what it was!\")\n",
        "    print(\"and unless a is not greater than 0, we'll do the loop again.\")\n",
        "print(\"well, it seems as if 'a' is now no bigger than 0!\")\n",
        "print(\"the loop is now over, and without furthur adue, so is this program!\")"
      ]
    }
  ],
  "metadata": {
    "kernelspec": {
      "display_name": "Python 3 (ipykernel)",
      "language": "python",
      "name": "python3"
    },
    "language_info": {
      "codemirror_mode": {
        "name": "ipython",
        "version": 3
      },
      "file_extension": ".py",
      "mimetype": "text/x-python",
      "name": "python",
      "nbconvert_exporter": "python",
      "pygments_lexer": "ipython3",
      "version": "3.11.4"
    },
    "colab": {
      "provenance": [],
      "include_colab_link": true
    }
  },
  "nbformat": 4,
  "nbformat_minor": 0
}