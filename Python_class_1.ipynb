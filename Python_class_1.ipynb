{
  "cells": [
    {
      "cell_type": "markdown",
      "metadata": {
        "id": "view-in-github",
        "colab_type": "text"
      },
      "source": [
        "<a href=\"https://colab.research.google.com/github/arulbenjaminchandru/Python-Notebooks/blob/main/Python_class_1.ipynb\" target=\"_parent\"><img src=\"https://colab.research.google.com/assets/colab-badge.svg\" alt=\"Open In Colab\"/></a>"
      ]
    },
    {
      "cell_type": "markdown",
      "metadata": {
        "id": "WpxmOrLeOqKR"
      },
      "source": [
        "# Class 1\n",
        "## Instructor : Arul Benjamin Chandru E\n",
        "#### Gmail : arulbenjaminchandru@gmail.com\n",
        "#### Mobile : +91-9894481283\n",
        "#### Linkedin Profile : https://www.linkedin.com/in/arulbenjamin/"
      ]
    },
    {
      "cell_type": "markdown",
      "metadata": {
        "id": "_kwvbjuCOqKS"
      },
      "source": [
        "## 1.1 Running Python from the command line\n",
        "In order to test pieces of code we can run Python from the command line. In this Google colab Notebook we are going to simulate this. You can type the commands in the fields and execute them.<br>\n",
        "In the field type:<br>\n",
        "```python\n",
        "print('Hello, World')\n",
        "```\n",
        "Then press `<shift> + <return>` or press the play button on left side of the cell (Run) to execute the command.\n",
        "\n"
      ]
    },
    {
      "cell_type": "code",
      "source": [
        "# This is to print Hello World\n",
        "\n",
        "print(\"Hello World\")\n",
        "\n",
        "# len function is to count the number of characters\n",
        "\n",
        "len(\"In order to test pieces of code we can run Python from the command line. In this Jupyter Notebook we are going to simulate this. You can type the commands in the fields and execute them.\")"
      ],
      "metadata": {
        "colab": {
          "base_uri": "https://localhost:8080/"
        },
        "id": "43OKe8UHRjC1",
        "outputId": "c6dc5451-1564-4bb7-fe31-1f6da61829dc"
      },
      "execution_count": null,
      "outputs": [
        {
          "output_type": "execute_result",
          "data": {
            "text/plain": [
              "186"
            ]
          },
          "metadata": {},
          "execution_count": 9
        }
      ]
    },
    {
      "cell_type": "markdown",
      "metadata": {
        "id": "wZ-6PWl3OqKT"
      },
      "source": [
        "What happened?\n",
        "\n",
        "You just created a program, that prints the words 'Hello, World'. The Python environment that you are in immediately compiles whatever you have typed in. This is useful for testing things, e.g. define a few variables, and then test to see if a certain line will work. That will come in a later lesson, though."
      ]
    },
    {
      "cell_type": "markdown",
      "source": [],
      "metadata": {
        "id": "G8UaAr5rTZXl"
      }
    },
    {
      "cell_type": "markdown",
      "source": [
        "### len() function\n",
        "The len() function is a built-in function in Python.\n",
        "It is used to get the length of a sequence (such as a string, bytes, tuple, list, or range) or a collection (such as a dictionary, set, or frozen set)."
      ],
      "metadata": {
        "id": "ebahrpArTetQ"
      }
    },
    {
      "cell_type": "code",
      "source": [
        "\n",
        "# Example usage:\n",
        "# Get the length of a string\n",
        "string = \"Hello, World!\"\n",
        "length = len(string)\n",
        "print(length)  # Output: 13\n",
        "\n",
        "# Get the number of elements in a list\n",
        "my_list = [1, 2, 3, 4, 5]\n",
        "num_elements = len(my_list)\n",
        "print(num_elements)  # Output: 5\n",
        "\n",
        "# Get the number of key-value pairs in a dictionary\n",
        "my_dict = {\"name\": \"John\", \"age\": 30, \"city\": \"New York\"}\n",
        "num_pairs = len(my_dict)\n",
        "print(num_pairs)  # Output: 3\n"
      ],
      "metadata": {
        "id": "4dIoPKIgTK8o"
      },
      "execution_count": null,
      "outputs": []
    },
    {
      "cell_type": "markdown",
      "source": [],
      "metadata": {
        "id": "3D51KFHOTJ-I"
      }
    },
    {
      "cell_type": "markdown",
      "metadata": {
        "id": "JQqfAzi2OqKT"
      },
      "source": [
        "## 1.2 Math in Python\n",
        "Type<br>\n",
        "```python\n",
        "1 + 1\n",
        "```\n",
        "and execute the code."
      ]
    },
    {
      "cell_type": "code",
      "execution_count": null,
      "metadata": {
        "scrolled": true,
        "id": "1MklM8XtOqKT",
        "colab": {
          "base_uri": "https://localhost:8080/"
        },
        "outputId": "6614ec2d-fb69-4160-a0df-44c7ec55e616"
      },
      "outputs": [
        {
          "output_type": "execute_result",
          "data": {
            "text/plain": [
              "2"
            ]
          },
          "metadata": {},
          "execution_count": 13
        }
      ],
      "source": [
        "1+1"
      ]
    },
    {
      "cell_type": "markdown",
      "metadata": {
        "id": "QnOwFnT1OqKU"
      },
      "source": [
        "Now type\n",
        "```python\n",
        "20 + 80\n",
        "```\n",
        "and execute the code."
      ]
    },
    {
      "cell_type": "code",
      "execution_count": null,
      "metadata": {
        "id": "v3Y-zFLlOqKU"
      },
      "outputs": [],
      "source": []
    },
    {
      "cell_type": "markdown",
      "metadata": {
        "id": "WcP8TvZVOqKU"
      },
      "source": [
        "These are additions. We can of course use other mathematical operators.<br>\n",
        "Try this subtraction:<br>\n",
        "```python\n",
        "6 - 5\n",
        "```"
      ]
    },
    {
      "cell_type": "code",
      "execution_count": null,
      "metadata": {
        "id": "0HGLUKrcOqKU"
      },
      "outputs": [],
      "source": []
    },
    {
      "cell_type": "markdown",
      "metadata": {
        "id": "x199a4nlOqKU"
      },
      "source": [
        "and this multiplication:<br>\n",
        "```python\n",
        "2 * 5\n",
        "```"
      ]
    },
    {
      "cell_type": "code",
      "execution_count": null,
      "metadata": {
        "id": "bViQGWFMOqKV"
      },
      "outputs": [],
      "source": []
    },
    {
      "cell_type": "markdown",
      "metadata": {
        "id": "o_YM_2gWOqKV"
      },
      "source": [
        "Try:\n",
        "```python\n",
        "5 ** 2\n",
        "```"
      ]
    },
    {
      "cell_type": "code",
      "execution_count": null,
      "metadata": {
        "id": "3rUuKFcbOqKV"
      },
      "outputs": [],
      "source": []
    },
    {
      "cell_type": "markdown",
      "metadata": {
        "id": "f1Shfyv9OqKV"
      },
      "source": [
        "`**` is the exponential operator, so we executed 5 squared."
      ]
    },
    {
      "cell_type": "markdown",
      "metadata": {
        "id": "2yDEOiSVOqKV"
      },
      "source": [
        "Type:\n",
        "```python\n",
        "print('1 + 2 is an addition')\n",
        "```"
      ]
    },
    {
      "cell_type": "code",
      "execution_count": null,
      "metadata": {
        "id": "ZARN7Ou4OqKV"
      },
      "outputs": [],
      "source": []
    },
    {
      "cell_type": "markdown",
      "metadata": {
        "id": "zGzVycDVOqKV"
      },
      "source": [
        "You see that the `print` statement writes something on the screen.\n",
        "\n",
        "Try this:\n",
        "```python\n",
        "print('one kilobyte is 2^10 bytes, or', 2 ** 10, 'bytes')\n",
        "```"
      ]
    },
    {
      "cell_type": "code",
      "execution_count": null,
      "metadata": {
        "id": "rUXQatM6OqKV",
        "colab": {
          "base_uri": "https://localhost:8080/"
        },
        "outputId": "179e7716-4226-46c2-a075-49702c06cfcb"
      },
      "outputs": [
        {
          "output_type": "stream",
          "name": "stdout",
          "text": [
            "one kilobyte is 2^10 bytes, or 1024 bytes\n"
          ]
        }
      ],
      "source": [
        "print('one kilobyte is 2^10 bytes, or', 2 ** 10, 'bytes')"
      ]
    },
    {
      "cell_type": "markdown",
      "metadata": {
        "id": "pBejaAVwOqKV"
      },
      "source": [
        "This demonstrates that you can print text and calculations in a sentence. The commas separating each section are a way of separating strings (text) from calculations or variable."
      ]
    },
    {
      "cell_type": "markdown",
      "metadata": {
        "id": "sJA80XUhOqKV"
      },
      "source": [
        "Now try this:\n",
        "```python\n",
        "23 / 3\n",
        "```"
      ]
    },
    {
      "cell_type": "code",
      "execution_count": null,
      "metadata": {
        "id": "EYCpdU4IOqKV"
      },
      "outputs": [],
      "source": []
    },
    {
      "cell_type": "markdown",
      "metadata": {
        "id": "1Pd6KxTkOqKW"
      },
      "source": [
        "And this:<br>\n",
        "```python\n",
        "23 % 3\n",
        "```"
      ]
    },
    {
      "cell_type": "code",
      "execution_count": null,
      "metadata": {
        "id": "Nug6s9cPOqKW"
      },
      "outputs": [],
      "source": []
    },
    {
      "cell_type": "markdown",
      "metadata": {
        "id": "yknObBmeOqKW"
      },
      "source": [
        "`%` returns the remainder of the division."
      ]
    },
    {
      "cell_type": "markdown",
      "metadata": {
        "id": "Ei4fJlIJOqKW"
      },
      "source": [
        "## 1.3 Comments, Please\n",
        "The final thing you'll need to know to move on to multi-line programs is the comment. Type the following (and yes, the output is shown):\n",
        "```python\n",
        "# I am a comment. Fear my wrath!\n",
        "```"
      ]
    },
    {
      "cell_type": "code",
      "execution_count": null,
      "metadata": {
        "id": "0yDuE7fmOqKW"
      },
      "outputs": [],
      "source": []
    },
    {
      "cell_type": "markdown",
      "metadata": {
        "id": "ukhO_1CaOqKW"
      },
      "source": [
        "A comment is a piece of code that is not run. In Python, you make something a comment by putting a hash in front of it. A hash comments everything after it in the line, and nothing before it. So you could type this:\n",
        "```python\n",
        "print(\"food is very nice\") #eat me\n",
        "```"
      ]
    },
    {
      "cell_type": "code",
      "execution_count": null,
      "metadata": {
        "id": "ct35ZPBcOqKX"
      },
      "outputs": [],
      "source": []
    },
    {
      "cell_type": "markdown",
      "metadata": {
        "id": "e5NUYlzROqKX"
      },
      "source": [
        "This results in a normal output, without the smutty comment, thank you very much.\n",
        "\n",
        "Now try this:\n",
        "```python\n",
        "# print(\"food is very nice\")\n",
        "```"
      ]
    },
    {
      "cell_type": "code",
      "execution_count": null,
      "metadata": {
        "id": "k6t-TQN9OqKX"
      },
      "outputs": [],
      "source": []
    },
    {
      "cell_type": "markdown",
      "metadata": {
        "id": "gSVApZQ1OqKX"
      },
      "source": [
        "Nothing happens, because the code was after a comment."
      ]
    },
    {
      "cell_type": "markdown",
      "metadata": {
        "id": "p0Yb5Et5OqKX"
      },
      "source": [
        "Comments are important for adding necessary information for another programmer to read, but not the computer. For example, an explanation of a section of code, saying what it does, or what is wrong with it. You can also comment bits of code by putting a `#` in front of it - if you don't want it to compile, but can't delete it because you might need it later."
      ]
    },
    {
      "cell_type": "markdown",
      "metadata": {
        "id": "P2GwHBV5OqKX"
      },
      "source": [
        "# Assignment 1\n",
        "\n",
        "Type in the cell below an expression to find out how many seconds are there in a 365-day year.\n",
        "\n",
        "### Hint : 365 days have 24 hours. 24 hours have 60 minutes. 60 minutes have 60 seconds\n",
        "\n"
      ]
    },
    {
      "cell_type": "code",
      "execution_count": null,
      "metadata": {
        "id": "ZBdbJ71nOqKY",
        "colab": {
          "base_uri": "https://localhost:8080/"
        },
        "outputId": "7ea6dfab-1dc2-4fc7-cb39-030c1c76c0ef"
      },
      "outputs": [
        {
          "output_type": "execute_result",
          "data": {
            "text/plain": [
              "31536000"
            ]
          },
          "metadata": {},
          "execution_count": 7
        }
      ],
      "source": [
        "365*24*60*60"
      ]
    },
    {
      "cell_type": "markdown",
      "metadata": {
        "id": "z41Kf51GOqKY"
      },
      "source": [
        "# Assignment 2\n",
        "\n",
        "The Earth can be approximated as a sphere with a radius of 6370 km. Use the cell below to find out the volume of such a shape in cubic meters."
      ]
    },
    {
      "cell_type": "code",
      "execution_count": null,
      "metadata": {
        "id": "hWylGdD-OqKY",
        "colab": {
          "base_uri": "https://localhost:8080/"
        },
        "outputId": "d97047db-006f-4a43-b577-8b5978a94aad"
      },
      "outputs": [
        {
          "output_type": "execute_result",
          "data": {
            "text/plain": [
              "6370000"
            ]
          },
          "metadata": {},
          "execution_count": 8
        }
      ],
      "source": [
        "#To find out the volume of the Earth in cubic meters\n",
        "\n",
        "6370*1000"
      ]
    },
    {
      "cell_type": "code",
      "source": [
        "## Actual Solution\n",
        "\n",
        "# Using math library\n",
        "\n",
        "import math\n",
        "\n",
        "# Library will contain functions\n",
        "\n",
        "radius_km = 6370  # Radius of Earth in kilometers\n",
        "radius_m = radius_km * 1000  # Convert radius to meters\n",
        "\n",
        "## Volume of a sphere is (4/3) * pi * r *** 3\n",
        "\n",
        "volume_m3 = (4/3) * math.pi * (radius_m ** 3)  # Calculate volume in cubic meters\n",
        "\n",
        "# To print the result\n",
        "print(math.pi)\n",
        "volume_m3\n"
      ],
      "metadata": {
        "colab": {
          "base_uri": "https://localhost:8080/"
        },
        "id": "HNRYeaSjTzaw",
        "outputId": "3feaf68f-8736-4370-80ec-061129aae8d0"
      },
      "execution_count": null,
      "outputs": [
        {
          "output_type": "stream",
          "name": "stdout",
          "text": [
            "3.141592653589793\n"
          ]
        },
        {
          "output_type": "execute_result",
          "data": {
            "text/plain": [
              "1.0826969324300023e+21"
            ]
          },
          "metadata": {},
          "execution_count": 13
        }
      ]
    }
  ],
  "metadata": {
    "kernelspec": {
      "display_name": "Python 3 (ipykernel)",
      "language": "python",
      "name": "python3"
    },
    "language_info": {
      "codemirror_mode": {
        "name": "ipython",
        "version": 3
      },
      "file_extension": ".py",
      "mimetype": "text/x-python",
      "name": "python",
      "nbconvert_exporter": "python",
      "pygments_lexer": "ipython3",
      "version": "3.11.4"
    },
    "colab": {
      "provenance": [],
      "include_colab_link": true
    }
  },
  "nbformat": 4,
  "nbformat_minor": 0
}